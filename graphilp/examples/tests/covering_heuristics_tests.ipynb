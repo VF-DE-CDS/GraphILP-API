{
 "cells": [
  {
   "cell_type": "code",
   "execution_count": 1,
   "metadata": {},
   "outputs": [
    {
     "name": "stdout",
     "output_type": "stream",
     "text": [
      "[0, 1, 2, 3, 4, 5, 6, 7, 8, 9, 10, 11, 12, 13, 14, 15, 16, 17, 18, 19, 20, 21, 22, 23, 24, 25, 26, 27, 28, 29, 30, 31, 32, 33, 34, 35, 44, 36, 37, 38, 39, 40, 41, 42, 43, 45, 46, 47, 48, 49, 50, 51, 52, 53, 54, 55, 56, 57, 58, 59, 60, 61, 62, 63, 64, 65, 66, 84, 67, 68, 69, 85, 86, 87, 70, 71, 88, 89, 72, 73, 74, 90, 91, 92, 75, 76, 93, 94, 95, 96, 97, 77, 78, 98, 99, 100, 101, 102, 103, 122, 104, 79, 80, 81, 82, 123, 124, 125]\n",
      "108\n",
      "[0, 1, 2, 3, 4, 5, 6, 7, 8, 9, 10, 11, 12, 13, 14, 15, 16, 17, 18, 19, 20, 21, 22, 23, 24, 25, 26, 27, 28, 29, 30, 31, 32, 33, 34, 35, 44, 36, 37, 38]\n",
      "40\n",
      "{0, 1, 2, 3, 4, 5, 7, 9, 10, 11, 12, 13, 14, 15, 17, 18, 19, 20, 21, 22, 23, 25, 26, 27, 28, 29, 30, 31, 32, 33, 34, 35, 36, 37, 38, 39, 40, 41, 42, 43, 44, 45, 46, 47, 48, 49, 50, 51, 52, 53, 54, 55, 56, 57, 58, 59, 60, 61, 62, 63, 64, 65, 66, 67, 68, 70, 71, 72, 73, 74, 75, 76, 77, 78, 79, 80, 81, 82, 83, 84, 85, 86, 89, 90, 91, 92, 93, 94, 97, 99, 100, 101, 103, 105, 107, 108, 109, 110, 111, 112, 113, 114, 115, 116, 117, 118, 120, 121, 122, 123, 124, 125, 126, 127, 128, 129, 130, 131, 132, 133, 134, 135, 136, 137, 138, 139, 140, 141, 142, 143, 144, 145, 146, 147, 148, 149, 150, 151, 152, 153, 154, 155, 156, 157, 158, 159, 160, 161, 163, 164, 166, 167, 168, 169, 170, 171, 172, 173, 174, 175, 176, 177, 178, 179, 180, 181, 182, 183, 185, 186, 187, 188, 189, 190, 191, 192, 193, 194, 195, 196, 197, 198, 199, 200, 201, 202, 203, 204, 205, 206, 207, 209, 210, 211, 213, 214, 215, 216, 217, 218, 219, 220, 221, 222, 223, 224, 225, 226, 227, 228, 229, 230, 231, 232, 233, 234, 235, 236, 237, 238, 239, 240, 241, 242, 243, 244, 246, 247, 248, 251, 252, 253, 255, 256, 257, 258, 259, 261, 262, 263, 264, 265, 266, 267, 268, 269, 270, 271, 272, 273, 276, 277, 278, 279, 280, 282, 283, 284, 285, 286, 287, 288, 289, 290, 291, 292, 293, 294, 296, 298, 299, 301, 302, 303, 304, 306, 307, 308, 309, 310, 311, 312, 313, 314, 315, 316, 317, 318, 319, 320, 321, 322, 323, 324, 325, 326, 327, 328, 329, 330, 331, 332, 333, 335, 336, 337, 338, 339, 340, 341, 342, 343, 344, 345, 346, 347, 348, 349, 350, 351, 352, 353, 354, 355, 356, 357, 358, 359, 360, 361, 362, 364, 365, 366, 367, 368, 369, 371, 372, 373, 375, 376, 378, 379, 380, 381, 382, 383, 385, 386, 387, 388, 389, 390, 391, 392, 393, 394, 395, 396, 397, 398, 399}\n",
      "363\n"
     ]
    }
   ],
   "source": [
    "import sys, os\n",
    "sys.path.append(os.path.abspath('..'))\n",
    "sys.path.append(os.path.abspath('../..'))\n",
    "import numpy as np\n",
    "import scipy.sparse as sp\n",
    "from imports import ilpsetsystem as ilpss\n",
    "from imports import readFile\n",
    "from covering.heuristics import setCover\n",
    "\n",
    "path = r\"../setcoverTestInstances/scpd1.txt\"\n",
    "cover_matrix, sets = readFile.read_set_cover(path)\n",
    "numNodes = 400\n",
    "universe = set(i for i in range(numNodes))\n",
    "\n",
    "coverSets, chosenNodes = setCover.getHeurSol(cover_matrix, sets, universe)\n",
    "print(coverSets)\n",
    "print(len(coverSets))\n",
    "\n",
    "# k - coverage tests\n",
    "k = 40\n",
    "cover, chosenNodes = setCover.getHeurSol(cover_matrix, sets, universe, k)\n",
    "print(cover)\n",
    "print(len(cover))\n",
    "print(chosenNodes)\n",
    "print(len(chosenNodes))"
   ]
  },
  {
   "cell_type": "code",
   "execution_count": 1,
   "metadata": {},
   "outputs": [
    {
     "name": "stdout",
     "output_type": "stream",
     "text": [
      "[3015, 3538, 3882, 3956, 3998, 3286, 2929, 3797, 3361, 3285, 2846, 3038, 3609, 1243]\n",
      "14\n",
      "{0, 1, 2, 3, 6, 7, 11, 12, 14, 15, 16, 17, 18, 20, 24, 25, 26, 33, 34, 36, 37, 42, 47, 50, 52, 54, 63, 65, 66, 68, 69, 74, 75, 77, 79, 81, 83, 84, 85, 90, 91, 92, 93, 96, 97, 98, 99, 100, 105, 110, 112, 113, 115, 117, 119, 120, 127, 130, 131, 136, 138, 139, 140, 141, 146, 148, 149, 153, 154, 155, 156, 159, 161, 163, 165, 166, 169, 174, 175, 177, 178, 184, 187, 188, 190, 193, 195, 197, 201, 207, 216, 219, 221, 222, 229, 230, 232, 234, 237, 238, 240, 243, 246, 249, 250, 254, 256, 259, 260, 262, 263, 270, 271, 273, 276, 277, 279, 282, 288, 291, 292, 294, 296, 297, 304, 306, 307, 309, 312, 313, 315, 317, 320, 321, 324, 325, 329, 330, 332, 335, 338, 340, 342, 346, 347, 348, 350, 353, 354, 355, 358, 359, 360, 362, 363, 367, 369, 372, 374, 376, 381, 382, 384, 385, 387, 391, 396, 399}\n",
      "168\n"
     ]
    }
   ],
   "source": [
    "import sys, os\n",
    "sys.path.append(os.path.abspath('..'))\n",
    "sys.path.append(os.path.abspath('../..'))\n",
    "import numpy as np\n",
    "import scipy.sparse as sp\n",
    "from imports import ilpsetsystem as ilpss\n",
    "from imports import readFile\n",
    "from packing.heuristics import setPacking\n",
    "\n",
    "path = r\"../setcoverTestInstances/scpd1.txt\"\n",
    "cover_matrix, sets = readFile.read_set_cover(path)\n",
    "numNodes = 400\n",
    "k = 40\n",
    "universe = set(i for i in range(numNodes))\n",
    "\n",
    "\n",
    "cover, chosenNodes = setPacking.getHeurSol(cover_matrix, sets, universe)\n",
    "print(cover)\n",
    "print(len(cover))\n",
    "print(chosenNodes)\n",
    "print(len(chosenNodes))"
   ]
  },
  {
   "cell_type": "markdown",
   "metadata": {},
   "source": [
    "# Max Cut"
   ]
  },
  {
   "cell_type": "code",
   "execution_count": 1,
   "metadata": {},
   "outputs": [
    {
     "name": "stdout",
     "output_type": "stream",
     "text": [
      "13\n"
     ]
    }
   ],
   "source": [
    "import sys, os\n",
    "sys.path.append(os.path.abspath('..'))\n",
    "sys.path.append(os.path.abspath('../..'))\n",
    "import numpy as np\n",
    "import networkx as nx\n",
    "import scipy.sparse as sp\n",
    "from imports import ilpsetsystem as ilpss\n",
    "from imports import readFile\n",
    "from covering.heuristics import maxCut, weightedMaxCut\n",
    "\n",
    "G = nx.Graph()\n",
    "G2 = nx.Graph()\n",
    "G.add_edges_from([(1,2),(1,4),(1,3),(3,5),(5,6),(3,4),(6,7),(4,7),(4,6),(2,7)])\n",
    "G2.add_weighted_edges_from([(1,3,2),(3,5,1),(5,6,1),(4,6,3),(6,7,1),(4,7,1),(2,4,3),(1,2,1),(3,4,1),(1,2,1),(1,4,1)])\n",
    "\n",
    "sol = weightedMaxCut.getHeurSol(G2)\n",
    "print(sol)"
   ]
  }
 ],
 "metadata": {
  "kernelspec": {
   "display_name": "Python 3.6",
   "language": "python",
   "name": "py3.6"
  },
  "language_info": {
   "codemirror_mode": {
    "name": "ipython",
    "version": 3
   },
   "file_extension": ".py",
   "mimetype": "text/x-python",
   "name": "python",
   "nbconvert_exporter": "python",
   "pygments_lexer": "ipython3",
   "version": "3.6.12"
  }
 },
 "nbformat": 4,
 "nbformat_minor": 4
}
