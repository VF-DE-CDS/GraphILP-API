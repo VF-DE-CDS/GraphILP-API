{
 "cells": [
  {
   "cell_type": "markdown",
   "metadata": {},
   "source": [
    "# TSP Art\n",
    "[TSP art](https://www2.oberlin.edu/math/faculty/bosch/tspart-page.html) is an algorithmic way to create line drawings from images that can be drawn without lifting the pencil.\n",
    "\n",
    "It is produced by creating a point cloud with a density depending on the brightness of the image and connecting the dots by a shortest [TSP](https://en.wikipedia.org/wiki/Travelling_salesman_problem) tour.\n",
    "\n",
    "The version in this example is leaving out some of the more compelling parts, in particular the use of proper [stippling](https://en.wikipedia.org/wiki/Stippling). Follow the link above to learn more about TSP art."
   ]
  },
  {
   "cell_type": "code",
   "execution_count": null,
   "metadata": {
    "ExecuteTime": {
     "end_time": "2021-03-25T11:13:01.678858Z",
     "start_time": "2021-03-25T11:13:01.300737Z"
    }
   },
   "outputs": [],
   "source": [
    "import networkx as nx\n",
    "\n",
    "from itertools import product, combinations\n",
    "from math import sqrt\n",
    "\n",
    "from gurobipy import GRB\n",
    "\n",
    "# GraphILP API: import networkx graphs and use travelling salesman problem\n",
    "from graphilp.imports import networkx as nximp\n",
    "from graphilp.network import tsp\n",
    "from graphilp.network.heuristics import tsp_christofides"
   ]
  },
  {
   "cell_type": "code",
   "execution_count": null,
   "metadata": {
    "ExecuteTime": {
     "end_time": "2021-03-25T11:13:01.845267Z",
     "start_time": "2021-03-25T11:13:01.680227Z"
    }
   },
   "outputs": [],
   "source": [
    "from matplotlib import image as mpimg \n",
    "from matplotlib import pyplot as plt\n",
    "\n",
    "import numpy as np"
   ]
  },
  {
   "cell_type": "markdown",
   "metadata": {},
   "source": [
    "## Create graph from image"
   ]
  },
  {
   "cell_type": "code",
   "execution_count": null,
   "metadata": {
    "ExecuteTime": {
     "end_time": "2021-03-25T11:13:03.285922Z",
     "start_time": "2021-03-25T11:13:03.270106Z"
    }
   },
   "outputs": [],
   "source": [
    "image = mpimg.imread(\"images/example_tsp_art.png\")"
   ]
  },
  {
   "cell_type": "code",
   "execution_count": null,
   "metadata": {
    "ExecuteTime": {
     "end_time": "2021-03-25T11:13:03.584626Z",
     "start_time": "2021-03-25T11:13:03.418220Z"
    }
   },
   "outputs": [],
   "source": [
    "plt.imshow(image);"
   ]
  },
  {
   "cell_type": "markdown",
   "metadata": {},
   "source": [
    "### Convert image to gray-scale"
   ]
  },
  {
   "cell_type": "code",
   "execution_count": null,
   "metadata": {
    "ExecuteTime": {
     "end_time": "2021-03-25T11:13:05.180353Z",
     "start_time": "2021-03-25T11:13:05.175410Z"
    }
   },
   "outputs": [],
   "source": [
    "# TODO: This is copied from somewhere around the web; do your own\n",
    "def rgb2gray(rgb):\n",
    "    return np.dot(rgb[...,:3], [0.2989, 0.5870, 0.1140])"
   ]
  },
  {
   "cell_type": "code",
   "execution_count": null,
   "metadata": {
    "ExecuteTime": {
     "end_time": "2021-03-25T11:13:05.427613Z",
     "start_time": "2021-03-25T11:13:05.407287Z"
    }
   },
   "outputs": [],
   "source": [
    "gray = rgb2gray(image)"
   ]
  },
  {
   "cell_type": "code",
   "execution_count": null,
   "metadata": {
    "ExecuteTime": {
     "end_time": "2021-03-25T11:13:05.728584Z",
     "start_time": "2021-03-25T11:13:05.593105Z"
    }
   },
   "outputs": [],
   "source": [
    "plt.imshow(gray, cmap='gray');"
   ]
  },
  {
   "cell_type": "markdown",
   "metadata": {},
   "source": [
    "### Draw sample from intensity distribution"
   ]
  },
  {
   "cell_type": "code",
   "execution_count": null,
   "metadata": {
    "ExecuteTime": {
     "end_time": "2021-03-25T11:13:07.107654Z",
     "start_time": "2021-03-25T11:13:07.104079Z"
    }
   },
   "outputs": [],
   "source": [
    "flat = gray.flatten()"
   ]
  },
  {
   "cell_type": "code",
   "execution_count": null,
   "metadata": {
    "ExecuteTime": {
     "end_time": "2021-03-25T11:13:07.281885Z",
     "start_time": "2021-03-25T11:13:07.269993Z"
    }
   },
   "outputs": [],
   "source": [
    "sample_index = np.random.choice(a=flat.size, replace=False, p=flat/flat.sum(), size=1000)"
   ]
  },
  {
   "cell_type": "code",
   "execution_count": null,
   "metadata": {
    "ExecuteTime": {
     "end_time": "2021-03-25T11:13:07.418377Z",
     "start_time": "2021-03-25T11:13:07.413947Z"
    }
   },
   "outputs": [],
   "source": [
    "adjusted_index = np.unravel_index(sample_index, gray.shape)"
   ]
  },
  {
   "cell_type": "code",
   "execution_count": null,
   "metadata": {
    "ExecuteTime": {
     "end_time": "2021-03-25T11:13:07.811328Z",
     "start_time": "2021-03-25T11:13:07.588814Z"
    }
   },
   "outputs": [],
   "source": [
    "plt.imshow(gray, cmap='gray')\n",
    "plt.scatter(adjusted_index[1], adjusted_index[0], s=2);"
   ]
  },
  {
   "cell_type": "markdown",
   "metadata": {},
   "source": [
    "## Create graph from samples"
   ]
  },
  {
   "cell_type": "code",
   "execution_count": null,
   "metadata": {
    "ExecuteTime": {
     "end_time": "2021-03-25T11:13:09.904650Z",
     "start_time": "2021-03-25T11:13:09.898333Z"
    }
   },
   "outputs": [],
   "source": [
    "def distance(indexes, i, j):\n",
    "    return sqrt((indexes[0][i] - indexes[0][j])**2 + (indexes[1][i] - indexes[1][j])**2)"
   ]
  },
  {
   "cell_type": "code",
   "execution_count": null,
   "metadata": {
    "ExecuteTime": {
     "end_time": "2021-03-25T11:13:11.669846Z",
     "start_time": "2021-03-25T11:13:10.486192Z"
    }
   },
   "outputs": [],
   "source": [
    "edges = [(i, j,\n",
    "         {'weight':distance(adjusted_index, i, j)}) for i, j in combinations(range(len(adjusted_index[0])), 2)]"
   ]
  },
  {
   "cell_type": "code",
   "execution_count": null,
   "metadata": {
    "ExecuteTime": {
     "end_time": "2021-03-25T11:13:11.673920Z",
     "start_time": "2021-03-25T11:13:11.671460Z"
    }
   },
   "outputs": [],
   "source": [
    "G = nx.Graph()"
   ]
  },
  {
   "cell_type": "code",
   "execution_count": null,
   "metadata": {
    "ExecuteTime": {
     "end_time": "2021-03-25T11:13:13.044461Z",
     "start_time": "2021-03-25T11:13:12.510558Z"
    }
   },
   "outputs": [],
   "source": [
    "G.add_edges_from(edges)"
   ]
  },
  {
   "cell_type": "code",
   "execution_count": null,
   "metadata": {
    "ExecuteTime": {
     "end_time": "2021-03-25T11:13:13.048046Z",
     "start_time": "2021-03-25T11:13:13.045957Z"
    }
   },
   "outputs": [],
   "source": [
    "optG = nximp.read(G)"
   ]
  },
  {
   "cell_type": "markdown",
   "metadata": {},
   "source": [
    "## Create warmstart using Christofides's algorithm"
   ]
  },
  {
   "cell_type": "code",
   "execution_count": null,
   "metadata": {
    "ExecuteTime": {
     "end_time": "2021-03-25T11:13:27.416553Z",
     "start_time": "2021-03-25T11:13:16.127428Z"
    }
   },
   "outputs": [],
   "source": [
    "warmstart_tour, lower_bound = tsp_christofides.get_heuristic(optG)"
   ]
  },
  {
   "cell_type": "code",
   "execution_count": null,
   "metadata": {
    "ExecuteTime": {
     "end_time": "2021-03-25T11:13:30.674178Z",
     "start_time": "2021-03-25T11:13:29.431262Z"
    }
   },
   "outputs": [],
   "source": [
    "plt.scatter(adjusted_index[0], adjusted_index[1], s=2)\n",
    "for edge in warmstart_tour:\n",
    "    plt.plot((adjusted_index[0][edge[0]], adjusted_index[0][edge[1]]),\n",
    "             (adjusted_index[1][edge[0]], adjusted_index[1][edge[1]]), 'r');"
   ]
  },
  {
   "cell_type": "markdown",
   "metadata": {},
   "source": [
    "## Setup optimisation problem"
   ]
  },
  {
   "cell_type": "code",
   "execution_count": null,
   "metadata": {
    "ExecuteTime": {
     "end_time": "2021-03-25T11:29:06.982637Z",
     "start_time": "2021-03-25T11:28:36.528035Z"
    }
   },
   "outputs": [],
   "source": [
    "m = tsp.create_model(optG, direction=GRB.MINIMIZE, warmstart=warmstart_tour)"
   ]
  },
  {
   "cell_type": "markdown",
   "metadata": {},
   "source": [
    "## Find optimal solution"
   ]
  },
  {
   "cell_type": "code",
   "execution_count": null,
   "metadata": {
    "ExecuteTime": {
     "start_time": "2021-03-25T11:31:21.657Z"
    }
   },
   "outputs": [],
   "source": [
    "m.optimize()"
   ]
  },
  {
   "cell_type": "code",
   "execution_count": null,
   "metadata": {
    "ExecuteTime": {
     "end_time": "2021-03-25T11:31:20.303509Z",
     "start_time": "2021-03-25T11:31:17.555054Z"
    }
   },
   "outputs": [],
   "source": [
    "tour = tsp.extract_solution(optG, m)"
   ]
  },
  {
   "cell_type": "markdown",
   "metadata": {},
   "source": [
    "## Visualise solution"
   ]
  },
  {
   "cell_type": "code",
   "execution_count": null,
   "metadata": {
    "ExecuteTime": {
     "end_time": "2021-03-25T11:31:22.549816Z",
     "start_time": "2021-03-25T11:31:21.404967Z"
    }
   },
   "outputs": [],
   "source": [
    "plt.figure(figsize=(12,10))\n",
    "plt.subplot(121)\n",
    "plt.axis('off')\n",
    "plt.imshow(image)\n",
    "ax = plt.subplot(122)\n",
    "plt.axis('off')\n",
    "ax.set_aspect(image.shape[0]/image.shape[1])\n",
    "for edge in tour:\n",
    "    plt.plot((adjusted_index[1][edge[0]], adjusted_index[1][edge[1]]),\n",
    "             (image.shape[0]-adjusted_index[0][edge[0]], image.shape[0]-adjusted_index[0][edge[1]]), 'k');"
   ]
  }
 ],
 "metadata": {
  "finalized": {
   "timestamp": 1617117174632,
   "trusted": true
  },
  "kernelspec": {
   "display_name": "Python 3.6",
   "language": "python",
   "name": "py3.6"
  },
  "language_info": {
   "codemirror_mode": {
    "name": "ipython",
    "version": 3
   },
   "file_extension": ".py",
   "mimetype": "text/x-python",
   "name": "python",
   "nbconvert_exporter": "python",
   "pygments_lexer": "ipython3",
   "version": "3.6.12"
  },
  "toc": {
   "base_numbering": 1,
   "nav_menu": {},
   "number_sections": true,
   "sideBar": true,
   "skip_h1_title": false,
   "title_cell": "Table of Contents",
   "title_sidebar": "Contents",
   "toc_cell": false,
   "toc_position": {},
   "toc_section_display": true,
   "toc_window_display": false
  }
 },
 "nbformat": 4,
 "nbformat_minor": 4
}
