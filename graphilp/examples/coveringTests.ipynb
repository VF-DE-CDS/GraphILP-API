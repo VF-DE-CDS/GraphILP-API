{
 "cells": [
  {
   "cell_type": "code",
   "execution_count": 3,
   "metadata": {},
   "outputs": [
    {
     "name": "stdout",
     "output_type": "stream",
     "text": [
      "Gurobi Optimizer version 9.1.0 build v9.1.0rc0 (linux64)\n",
      "Thread count: 6 physical cores, 12 logical processors, using up to 12 threads\n",
      "Optimize a model with 3 rows, 3 columns and 3 nonzeros\n",
      "Model fingerprint: 0xcdeb162b\n",
      "Variable types: 0 continuous, 3 integer (3 binary)\n",
      "Coefficient statistics:\n",
      "  Matrix range     [1e+00, 1e+00]\n",
      "  Objective range  [1e+00, 4e+00]\n",
      "  Bounds range     [1e+00, 1e+00]\n",
      "  RHS range        [1e+00, 1e+00]\n",
      "Found heuristic solution: objective 7.0000000\n",
      "Presolve removed 3 rows and 3 columns\n",
      "Presolve time: 0.00s\n",
      "Presolve: All rows and columns removed\n",
      "\n",
      "Explored 0 nodes (0 simplex iterations) in 0.01 seconds\n",
      "Thread count was 1 (of 12 available processors)\n",
      "\n",
      "Solution count 1: 7 \n",
      "\n",
      "Optimal solution found (tolerance 1.00e-04)\n",
      "Best objective 7.000000000000e+00, best bound 7.000000000000e+00, gap 0.0000%\n"
     ]
    }
   ],
   "source": [
    "import sys, os\n",
    "sys.path.append(os.path.abspath('..'))\n",
    "import numpy as np\n",
    "import scipy.sparse as sp\n",
    "from imports import ilpsetsystem as ilpss\n",
    "from covering import set_cover as sc\n",
    "\n",
    "cover_matrix = np.array([[ 0.,  0.,   1],\n",
    "       [ 1,  0.,  0.],\n",
    "       [ 0.,  1,  0.]])\n",
    "\n",
    "A = sp.csr_matrix(cover_matrix)\n",
    "sets = {0:{'weight': 4},1:{'weight': 2},2:{'weight': 1}}\n",
    "universe = [0, 1, 2]\n",
    "SetCover = ilpss.ILPSetSystem()\n",
    "SetCover.setSystem(sets)\n",
    "SetCover.setIncMatrix(A)\n",
    "SetCover.setUniverse(universe )\n",
    "m = sc.createModel(SetCover, A)\n",
    "m.optimize()"
   ]
  },
  {
   "cell_type": "code",
   "execution_count": 1,
   "metadata": {},
   "outputs": [
    {
     "name": "stdout",
     "output_type": "stream",
     "text": [
      "Using license file /opt/gurobi/gurobi.lic\n",
      "[4 2 1]\n",
      "Gurobi Optimizer version 9.1.0 build v9.1.0rc0 (linux64)\n",
      "Thread count: 6 physical cores, 12 logical processors, using up to 12 threads\n",
      "Optimize a model with 4 rows, 6 columns and 10 nonzeros\n",
      "Model fingerprint: 0x0ace7407\n",
      "Variable types: 0 continuous, 6 integer (6 binary)\n",
      "Coefficient statistics:\n",
      "  Matrix range     [1e+00, 1e+00]\n",
      "  Objective range  [1e+00, 4e+00]\n",
      "  Bounds range     [1e+00, 1e+00]\n",
      "  RHS range        [1e+00, 1e+00]\n",
      "Found heuristic solution: objective -0.0000000\n",
      "Presolve removed 4 rows and 6 columns\n",
      "Presolve time: 0.00s\n",
      "Presolve: All rows and columns removed\n",
      "\n",
      "Explored 0 nodes (0 simplex iterations) in 0.01 seconds\n",
      "Thread count was 1 (of 12 available processors)\n",
      "\n",
      "Solution count 2: 5 \n",
      "\n",
      "Optimal solution found (tolerance 1.00e-04)\n",
      "Best objective 5.000000000000e+00, best bound 5.000000000000e+00, gap 0.0000%\n"
     ]
    },
    {
     "ename": "NameError",
     "evalue": "name 'set_cover' is not defined",
     "output_type": "error",
     "traceback": [
      "\u001b[0;31m---------------------------------------------------------------------------\u001b[0m",
      "\u001b[0;31mNameError\u001b[0m                                 Traceback (most recent call last)",
      "\u001b[0;32m<ipython-input-1-5777c94b07f9>\u001b[0m in \u001b[0;36m<module>\u001b[0;34m\u001b[0m\n\u001b[1;32m     20\u001b[0m \u001b[0mm\u001b[0m\u001b[0;34m.\u001b[0m\u001b[0moptimize\u001b[0m\u001b[0;34m(\u001b[0m\u001b[0;34m)\u001b[0m\u001b[0;34m\u001b[0m\u001b[0;34m\u001b[0m\u001b[0m\n\u001b[1;32m     21\u001b[0m \u001b[0;31m#set_cover = ilpss.extractSolution(SetCover, m)\u001b[0m\u001b[0;34m\u001b[0m\u001b[0;34m\u001b[0m\u001b[0;34m\u001b[0m\u001b[0m\n\u001b[0;32m---> 22\u001b[0;31m \u001b[0mprint\u001b[0m\u001b[0;34m(\u001b[0m\u001b[0mset_cover\u001b[0m\u001b[0;34m)\u001b[0m\u001b[0;34m\u001b[0m\u001b[0;34m\u001b[0m\u001b[0m\n\u001b[0m",
      "\u001b[0;31mNameError\u001b[0m: name 'set_cover' is not defined"
     ]
    }
   ],
   "source": [
    "import sys, os\n",
    "sys.path.append(os.path.abspath('..'))\n",
    "import numpy as np\n",
    "import scipy.sparse as sp\n",
    "from imports import ilpsetsystem as ilpss\n",
    "from covering import k_cover as kc\n",
    "\n",
    "cover_matrix = np.array([[ 0.,  0.,   1],\n",
    "       [ 1,  0.,  0.],\n",
    "       [ 0.,  1,  1]])\n",
    "\n",
    "A = sp.csr_matrix(cover_matrix)\n",
    "sets = {0:{'weight': 4},1:{'weight': 2},2:{'weight': 1}}\n",
    "universe = {0:{'weight': 4},1:{'weight': 2},2:{'weight': 1}}\n",
    "SetCover = ilpss.ILPSetSystem()\n",
    "SetCover.setSystem(sets)\n",
    "SetCover.setIncMatrix(A)\n",
    "SetCover.setUniverse(universe )\n",
    "m = kc.createModel(SetCover, A, 1)\n",
    "m.optimize()"
   ]
  },
  {
   "cell_type": "code",
   "execution_count": null,
   "metadata": {},
   "outputs": [],
   "source": []
  }
 ],
 "metadata": {
  "kernelspec": {
   "display_name": "Python 3.6",
   "language": "python",
   "name": "py3.6"
  },
  "language_info": {
   "codemirror_mode": {
    "name": "ipython",
    "version": 3
   },
   "file_extension": ".py",
   "mimetype": "text/x-python",
   "name": "python",
   "nbconvert_exporter": "python",
   "pygments_lexer": "ipython3",
   "version": "3.6.12"
  }
 },
 "nbformat": 4,
 "nbformat_minor": 4
}
