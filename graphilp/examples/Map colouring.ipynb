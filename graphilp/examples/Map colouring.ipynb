{
 "cells": [
  {
   "cell_type": "markdown",
   "metadata": {},
   "source": [
    "# Map colouring\n",
    "Using the GraphILP API to colour the map of all districts in Germany with as few colours as possible such that adjacent districts get different colours."
   ]
  },
  {
   "cell_type": "code",
   "execution_count": null,
   "metadata": {},
   "outputs": [],
   "source": [
    "import geopandas as gpd\n",
    "from shapely.geometry import LineString"
   ]
  },
  {
   "cell_type": "code",
   "execution_count": null,
   "metadata": {},
   "outputs": [],
   "source": [
    "import networkx as nx"
   ]
  },
  {
   "cell_type": "code",
   "execution_count": null,
   "metadata": {},
   "outputs": [],
   "source": [
    "%matplotlib inline\n",
    "%config InlineBackend.figure_format = 'svg'\n",
    "from matplotlib import pyplot as plt"
   ]
  },
  {
   "cell_type": "markdown",
   "metadata": {},
   "source": [
    "## Get the data: a map of districts in Germany"
   ]
  },
  {
   "cell_type": "code",
   "execution_count": null,
   "metadata": {},
   "outputs": [],
   "source": [
    "data = gpd.read_file(\"/mnt/data/gis/vg250_0101.gk3.shape.ebenen/vg250_ebenen/VG250_KRS.shp\")"
   ]
  },
  {
   "cell_type": "markdown",
   "metadata": {},
   "source": [
    "Let's draw a map of the districts.\n",
    "Your job is to colour each district in such a way that\n",
    "* you use as few colours as possible,\n",
    "* adjacent district are coloured with different colours."
   ]
  },
  {
   "cell_type": "code",
   "execution_count": null,
   "metadata": {},
   "outputs": [],
   "source": [
    "fig, ax = plt.subplots(figsize=(12,8))\n",
    "plt.axis('off')\n",
    "data.plot(ax=ax);"
   ]
  },
  {
   "cell_type": "markdown",
   "metadata": {},
   "source": [
    "## Set up a graph\n",
    "We will cast this as a problem on graphs by creating a graph in which\n",
    "* the vertices correspond to the districts and\n",
    "* there is an edge between two vertices if the corresponding districts are adjacent"
   ]
  },
  {
   "cell_type": "code",
   "execution_count": null,
   "metadata": {},
   "outputs": [],
   "source": [
    "# to help visualise the graph, we compute the centroid of each district\n",
    "centroids = data['geometry'].apply(lambda x: x.centroid)"
   ]
  },
  {
   "cell_type": "code",
   "execution_count": null,
   "metadata": {},
   "outputs": [],
   "source": [
    "# we use pairwise intersection of districts to find out whether they are adjacent\n",
    "intersect = gpd.sjoin(data, data)"
   ]
  },
  {
   "cell_type": "code",
   "execution_count": null,
   "metadata": {},
   "outputs": [],
   "source": [
    "# as a result, we can extract the edges to be used in our graph\n",
    "links = [(row[0], row[1].index_right) for row in intersect.iterrows() if row[0] != row[1].index_right]"
   ]
  },
  {
   "cell_type": "code",
   "execution_count": null,
   "metadata": {},
   "outputs": [],
   "source": [
    "# let us create some geometry from the edges, so that we can plot them\n",
    "lines = [LineString((centroids.loc[a], centroids.loc[b])) for (a, b) in links]\n",
    "lines_df = gpd.GeoDataFrame(geometry=lines)"
   ]
  },
  {
   "cell_type": "code",
   "execution_count": null,
   "metadata": {},
   "outputs": [],
   "source": [
    "# now we can visualise the graph on top of our map\n",
    "fig, ax = plt.subplots(figsize=(12,8))\n",
    "plt.axis('off')\n",
    "data.plot(ax=ax)\n",
    "centroids.plot(color='pink', ax=ax)\n",
    "lines_df.plot(color='red', ax=ax);"
   ]
  },
  {
   "cell_type": "code",
   "execution_count": null,
   "metadata": {},
   "outputs": [],
   "source": [
    "# create a graph from our data\n",
    "mygraph = nx.Graph()\n",
    "mygraph.add_edges_from(links)"
   ]
  },
  {
   "cell_type": "markdown",
   "metadata": {},
   "source": [
    "## Set up and solve the problem using GraphILP API"
   ]
  },
  {
   "cell_type": "code",
   "execution_count": null,
   "metadata": {},
   "outputs": [],
   "source": [
    "import sys\n",
    "sys.path.append(\"../..\")\n",
    "from graphilp.imports import networkx as imp_nx\n",
    "from graphilp.partitioning import min_vertex_coloring\n",
    "from graphilp.sub_super import max_clique_cover as max_clique"
   ]
  },
  {
   "cell_type": "code",
   "execution_count": null,
   "metadata": {},
   "outputs": [],
   "source": [
    "G = imp_nx.read(mygraph)"
   ]
  },
  {
   "cell_type": "code",
   "execution_count": null,
   "metadata": {},
   "outputs": [],
   "source": [
    "model = min_vertex_coloring.createModel(G)"
   ]
  },
  {
   "cell_type": "code",
   "execution_count": null,
   "metadata": {},
   "outputs": [],
   "source": [
    "model.optimize()"
   ]
  },
  {
   "cell_type": "code",
   "execution_count": null,
   "metadata": {},
   "outputs": [],
   "source": [
    "color_assignment, node_to_col = min_vertex_coloring.extractSolution(G, model)"
   ]
  },
  {
   "cell_type": "markdown",
   "metadata": {},
   "source": [
    "## Visualise the solution"
   ]
  },
  {
   "cell_type": "code",
   "execution_count": null,
   "metadata": {},
   "outputs": [],
   "source": [
    "data['colors'] = data.apply(lambda row: node_to_col[row.name], axis=1)"
   ]
  },
  {
   "cell_type": "code",
   "execution_count": null,
   "metadata": {},
   "outputs": [],
   "source": [
    "fig, ax = plt.subplots(figsize=(12,8))\n",
    "plt.axis('off')\n",
    "data.plot(column='colors', cmap='Set1', ax=ax);"
   ]
  },
  {
   "cell_type": "markdown",
   "metadata": {},
   "source": [
    "## Analyse the solution"
   ]
  },
  {
   "cell_type": "code",
   "execution_count": null,
   "metadata": {},
   "outputs": [],
   "source": [
    "# check how many colours we need\n",
    "set(node_to_col.values())"
   ]
  },
  {
   "cell_type": "markdown",
   "metadata": {},
   "source": [
    "Wait! Shouldn't four colours suffice for every planar map according to the famous <a href=\"https://en.wikipedia.org/wiki/Four_color_theorem\">Four colour theorem</a>?"
   ]
  },
  {
   "cell_type": "code",
   "execution_count": null,
   "metadata": {},
   "outputs": [],
   "source": [
    "# perhaps our graph is not planar?\n",
    "nx.algorithms.planarity.check_planarity(mygraph)"
   ]
  },
  {
   "cell_type": "markdown",
   "metadata": {},
   "source": [
    "Indeed, now let us try to find a region that is to blame for this!\n",
    "We will do so by invoking another function of our library to find a <a href=\"https://en.wikipedia.org/wiki/Clique_problem\">maximum size clique</a>."
   ]
  },
  {
   "cell_type": "code",
   "execution_count": null,
   "metadata": {},
   "outputs": [],
   "source": [
    "model = max_clique.createModel(G)"
   ]
  },
  {
   "cell_type": "code",
   "execution_count": null,
   "metadata": {},
   "outputs": [],
   "source": [
    "model.optimize()"
   ]
  },
  {
   "cell_type": "code",
   "execution_count": null,
   "metadata": {},
   "outputs": [],
   "source": [
    "clique = max_clique.extractSolution(G, model)"
   ]
  },
  {
   "cell_type": "code",
   "execution_count": null,
   "metadata": {},
   "outputs": [],
   "source": [
    "data.iloc[clique]"
   ]
  },
  {
   "cell_type": "code",
   "execution_count": null,
   "metadata": {},
   "outputs": [],
   "source": [
    "# here are all the existing links between the nodes in our clique\n",
    "clique_links = [(a, b) for (a, b) in links if a in clique and b in clique]"
   ]
  },
  {
   "cell_type": "code",
   "execution_count": null,
   "metadata": {},
   "outputs": [],
   "source": [
    "# let us create some geometry from these edges, too, so that we can plot them\n",
    "clique_lines = [LineString((centroids.loc[a], centroids.loc[b])) for (a, b) in clique_links]\n",
    "clique_lines_df = gpd.GeoDataFrame(geometry=clique_lines)"
   ]
  },
  {
   "cell_type": "code",
   "execution_count": null,
   "metadata": {},
   "outputs": [],
   "source": [
    "# now we can visualise the clique\n",
    "fig, ax = plt.subplots(figsize=(12,8))\n",
    "plt.axis('off')\n",
    "data.iloc[clique].plot(column='colors', cmap='Set1', ax=ax)\n",
    "centroids.iloc[clique].plot(color='pink', ax=ax)\n",
    "clique_lines_df.plot(color='red', ax=ax);"
   ]
  },
  {
   "cell_type": "code",
   "execution_count": null,
   "metadata": {},
   "outputs": [],
   "source": []
  }
 ],
 "metadata": {
  "finalized": {
   "timestamp": 1614958286909,
   "trusted": true
  },
  "kernelspec": {
   "display_name": "Python 3",
   "language": "python",
   "name": "python3"
  },
  "language_info": {
   "codemirror_mode": {
    "name": "ipython",
    "version": 3
   },
   "file_extension": ".py",
   "mimetype": "text/x-python",
   "name": "python",
   "nbconvert_exporter": "python",
   "pygments_lexer": "ipython3",
   "version": "3.6.12"
  },
  "toc": {
   "base_numbering": 1,
   "nav_menu": {},
   "number_sections": true,
   "sideBar": true,
   "skip_h1_title": false,
   "title_cell": "Table of Contents",
   "title_sidebar": "Contents",
   "toc_cell": false,
   "toc_position": {},
   "toc_section_display": true,
   "toc_window_display": true
  }
 },
 "nbformat": 4,
 "nbformat_minor": 4
}
