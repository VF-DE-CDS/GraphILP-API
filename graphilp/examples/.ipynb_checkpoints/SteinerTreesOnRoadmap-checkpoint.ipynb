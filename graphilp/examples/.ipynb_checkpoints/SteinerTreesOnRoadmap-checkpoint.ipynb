{
 "cells": [
  {
   "cell_type": "markdown",
   "metadata": {},
   "source": [
    "# Steiner Trees on Road Maps\n",
    "This example retrieves a graph from [OpenStreetMap](https://www.openstreetmap.org) via the [osmnx](https://osmnx.readthedocs.io) package.\n",
    "A shortest tree connecting a set of randomly chosen terminals is then found by computing a minimum weight [Steiner tree](https://en.wikipedia.org/wiki/Steiner_tree_problem#Steiner_tree_in_graphs_and_variants)."
   ]
  },
  {
   "cell_type": "markdown",
   "metadata": {},
   "source": [
    "## Imports"
   ]
  },
  {
   "cell_type": "code",
   "execution_count": 11,
   "metadata": {},
   "outputs": [
    {
     "ename": "ModuleNotFoundError",
     "evalue": "No module named 'graphipnetwork'",
     "output_type": "error",
     "traceback": [
      "\u001b[0;31m---------------------------------------------------------------------------\u001b[0m",
      "\u001b[0;31mModuleNotFoundError\u001b[0m                       Traceback (most recent call last)",
      "\u001b[0;32m<ipython-input-11-b4a239532eed>\u001b[0m in \u001b[0;36m<module>\u001b[0;34m\u001b[0m\n\u001b[1;32m      6\u001b[0m \u001b[0;34m\u001b[0m\u001b[0m\n\u001b[1;32m      7\u001b[0m \u001b[0;32mfrom\u001b[0m \u001b[0mgraphilp\u001b[0m\u001b[0;34m.\u001b[0m\u001b[0mimports\u001b[0m \u001b[0;32mimport\u001b[0m \u001b[0mnetworkx\u001b[0m \u001b[0;32mas\u001b[0m \u001b[0mimp_nx\u001b[0m\u001b[0;34m\u001b[0m\u001b[0;34m\u001b[0m\u001b[0m\n\u001b[0;32m----> 8\u001b[0;31m \u001b[0;32mfrom\u001b[0m \u001b[0mgraphipnetwork\u001b[0m \u001b[0;32mimport\u001b[0m \u001b[0msteiner_linear_tightened\u001b[0m \u001b[0;32mas\u001b[0m \u001b[0mstp\u001b[0m\u001b[0;34m\u001b[0m\u001b[0;34m\u001b[0m\u001b[0m\n\u001b[0m\u001b[1;32m      9\u001b[0m \u001b[0;32mfrom\u001b[0m \u001b[0mnetwork\u001b[0m\u001b[0;34m.\u001b[0m\u001b[0mheuristics\u001b[0m \u001b[0;32mimport\u001b[0m \u001b[0msteiner_metric_closure\u001b[0m \u001b[0;32mas\u001b[0m \u001b[0msmc\u001b[0m\u001b[0;34m\u001b[0m\u001b[0;34m\u001b[0m\u001b[0m\n\u001b[1;32m     10\u001b[0m \u001b[0;34m\u001b[0m\u001b[0m\n",
      "\u001b[0;31mModuleNotFoundError\u001b[0m: No module named 'graphipnetwork'"
     ]
    }
   ],
   "source": [
    "import random\n",
    "\n",
    "import networkx as nx\n",
    "\n",
    "import pyproj\n",
    "\n",
    "from graphilp.imports import networkx as imp_nx\n",
    "from graphilp.network import steiner_linear_tightened as stp\n",
    "from graphilp.network.heuristics import steiner_metric_closure as smc\n",
    "\n"
   ]
  },
  {
   "cell_type": "markdown",
   "metadata": {},
   "source": [
    "## Load road map graph"
   ]
  },
  {
   "cell_type": "markdown",
   "metadata": {},
   "source": [
    "Use [Gauss-Krüger 3](https://georepository.com/crs_31467/DHDN-3-degree-Gauss-Kruger-zone-3.html) as coordinate system"
   ]
  },
  {
   "cell_type": "code",
   "execution_count": 6,
   "metadata": {},
   "outputs": [],
   "source": [
    "crs = pyproj.crs.CRS('epsg:31467')"
   ]
  },
  {
   "cell_type": "code",
   "execution_count": 7,
   "metadata": {},
   "outputs": [
    {
     "ename": "NameError",
     "evalue": "name 'ox' is not defined",
     "output_type": "error",
     "traceback": [
      "\u001b[0;31m---------------------------------------------------------------------------\u001b[0m",
      "\u001b[0;31mNameError\u001b[0m                                 Traceback (most recent call last)",
      "\u001b[0;32m<ipython-input-7-ca94ae271890>\u001b[0m in \u001b[0;36m<module>\u001b[0;34m\u001b[0m\n\u001b[1;32m      2\u001b[0m \u001b[0;34m\u001b[0m\u001b[0m\n\u001b[1;32m      3\u001b[0m \u001b[0;31m# road network of suburb (converted to Gauss-Krüger 3)\u001b[0m\u001b[0;34m\u001b[0m\u001b[0;34m\u001b[0m\u001b[0;34m\u001b[0m\u001b[0m\n\u001b[0;32m----> 4\u001b[0;31m \u001b[0mG\u001b[0m \u001b[0;34m=\u001b[0m \u001b[0mox\u001b[0m\u001b[0;34m.\u001b[0m\u001b[0mproject_graph\u001b[0m\u001b[0;34m(\u001b[0m\u001b[0mox\u001b[0m\u001b[0;34m.\u001b[0m\u001b[0mgraph_from_place\u001b[0m\u001b[0;34m(\u001b[0m\u001b[0mplace\u001b[0m\u001b[0;34m,\u001b[0m \u001b[0mnetwork_type\u001b[0m\u001b[0;34m=\u001b[0m\u001b[0;34m'walk'\u001b[0m\u001b[0;34m)\u001b[0m\u001b[0;34m,\u001b[0m \u001b[0mto_crs\u001b[0m\u001b[0;34m=\u001b[0m\u001b[0mcrs\u001b[0m\u001b[0;34m)\u001b[0m\u001b[0;34m\u001b[0m\u001b[0;34m\u001b[0m\u001b[0m\n\u001b[0m",
      "\u001b[0;31mNameError\u001b[0m: name 'ox' is not defined"
     ]
    }
   ],
   "source": [
    "place = 'Oberkassel, Düsseldorf, Deutschland'\n",
    "\n",
    "# road network of suburb (converted to Gauss-Krüger 3)\n",
    "G = ox.project_graph(ox.graph_from_place(place, network_type='walk'), to_crs=crs)"
   ]
  },
  {
   "cell_type": "code",
   "execution_count": 8,
   "metadata": {},
   "outputs": [
    {
     "ename": "NameError",
     "evalue": "name 'ox' is not defined",
     "output_type": "error",
     "traceback": [
      "\u001b[0;31m---------------------------------------------------------------------------\u001b[0m",
      "\u001b[0;31mNameError\u001b[0m                                 Traceback (most recent call last)",
      "\u001b[0;32m<ipython-input-8-bb1bc5030b44>\u001b[0m in \u001b[0;36m<module>\u001b[0;34m\u001b[0m\n\u001b[1;32m      1\u001b[0m \u001b[0;31m# draw the road map\u001b[0m\u001b[0;34m\u001b[0m\u001b[0;34m\u001b[0m\u001b[0;34m\u001b[0m\u001b[0m\n\u001b[0;32m----> 2\u001b[0;31m ox.plot_graph(G, figsize=(14, 10),\n\u001b[0m\u001b[1;32m      3\u001b[0m     \u001b[0mbgcolor\u001b[0m\u001b[0;34m=\u001b[0m\u001b[0;34m'#FFF'\u001b[0m\u001b[0;34m,\u001b[0m\u001b[0;34m\u001b[0m\u001b[0;34m\u001b[0m\u001b[0m\n\u001b[1;32m      4\u001b[0m     node_color='b');\n",
      "\u001b[0;31mNameError\u001b[0m: name 'ox' is not defined"
     ]
    }
   ],
   "source": [
    "# draw the road map\n",
    "ox.plot_graph(G, figsize=(14, 10),\n",
    "    bgcolor='#FFF',\n",
    "    node_color='b');"
   ]
  },
  {
   "cell_type": "markdown",
   "metadata": {},
   "source": [
    "# Choose terminals"
   ]
  },
  {
   "cell_type": "code",
   "execution_count": null,
   "metadata": {},
   "outputs": [],
   "source": [
    "node_list = list(G.nodes())"
   ]
  },
  {
   "cell_type": "code",
   "execution_count": null,
   "metadata": {},
   "outputs": [],
   "source": [
    "# choose num_terminals random terminals\n",
    "num_terminals = 5"
   ]
  },
  {
   "cell_type": "code",
   "execution_count": null,
   "metadata": {},
   "outputs": [],
   "source": [
    "terminals = [node_list[random.randint(0, len(node_list))] for n in range(num_terminals)]"
   ]
  },
  {
   "cell_type": "code",
   "execution_count": null,
   "metadata": {},
   "outputs": [],
   "source": [
    "# draw road map and terminals\n",
    "ox.plot_graph(G, figsize=(14, 10),\n",
    "    bgcolor='#FFF',\n",
    "    node_color=['#ED0000' if n in terminals else '#00F' for n in node_list],\n",
    "    node_size=[50 if n in terminals else 15 for n in node_list]);"
   ]
  },
  {
   "cell_type": "markdown",
   "metadata": {},
   "source": [
    "## Set up and run optimisation problem"
   ]
  },
  {
   "cell_type": "code",
   "execution_count": null,
   "metadata": {},
   "outputs": [],
   "source": [
    "# transform input into an undirected graph\n",
    "G_undirected = nx.Graph(G)"
   ]
  },
  {
   "cell_type": "code",
   "execution_count": null,
   "metadata": {},
   "outputs": [],
   "source": [
    "# import to GraphILP API\n",
    "optG = imp_nx.read(G_undirected)"
   ]
  },
  {
   "cell_type": "code",
   "execution_count": null,
   "metadata": {},
   "outputs": [],
   "source": [
    "# find a heuristic solution\n",
    "warmstart, lower_bound = smc.get_heuristic(optG, terminals)"
   ]
  },
  {
   "cell_type": "code",
   "execution_count": null,
   "metadata": {},
   "outputs": [],
   "source": [
    "# set up model and warmstart\n",
    "m = stp.create_model(optG, terminals, weight='length', warmstart=warmstart)"
   ]
  },
  {
   "cell_type": "code",
   "execution_count": null,
   "metadata": {},
   "outputs": [],
   "source": [
    "m.optimize()"
   ]
  },
  {
   "cell_type": "markdown",
   "metadata": {},
   "source": [
    "## Visualise solution"
   ]
  },
  {
   "cell_type": "code",
   "execution_count": null,
   "metadata": {},
   "outputs": [],
   "source": [
    "# extract solution\n",
    "solution = stp.extract_solution(optG, m)"
   ]
  },
  {
   "cell_type": "code",
   "execution_count": null,
   "metadata": {},
   "outputs": [],
   "source": [
    "# draw road map with terminals and solution"
   ]
  },
  {
   "cell_type": "code",
   "execution_count": null,
   "metadata": {},
   "outputs": [],
   "source": [
    "edge_colors = ['#ED0000' if (u,v) in solution or (v, u) in solution else '#AAA' for u, v in G.edges()]\n",
    "edge_widths = [3 if (u,v) in solution else 1 for u, v in G.edges()]"
   ]
  },
  {
   "cell_type": "code",
   "execution_count": null,
   "metadata": {},
   "outputs": [],
   "source": [
    "ox.plot_graph(G, figsize=(14, 10),\n",
    "    bgcolor='#FFF',\n",
    "    node_color=['#ED0000' if n in terminals else '#00F' for n in node_list],\n",
    "    node_size=[75 if n in terminals else 15 for n in node_list],\n",
    "             edge_color=edge_colors, edge_linewidth=edge_widths);"
   ]
  }
 ],
 "metadata": {
  "finalized": {
   "timestamp": 1617274151730,
   "trusted": true
  },
  "kernelspec": {
   "display_name": "Python 3",
   "language": "python",
   "name": "python3"
  },
  "language_info": {
   "codemirror_mode": {
    "name": "ipython",
    "version": 3
   },
   "file_extension": ".py",
   "mimetype": "text/x-python",
   "name": "python",
   "nbconvert_exporter": "python",
   "pygments_lexer": "ipython3",
   "version": "3.8.5"
  },
  "toc": {
   "base_numbering": 1,
   "nav_menu": {},
   "number_sections": true,
   "sideBar": true,
   "skip_h1_title": false,
   "title_cell": "Table of Contents",
   "title_sidebar": "Contents",
   "toc_cell": false,
   "toc_position": {},
   "toc_section_display": true,
   "toc_window_display": false
  }
 },
 "nbformat": 4,
 "nbformat_minor": 4
}
