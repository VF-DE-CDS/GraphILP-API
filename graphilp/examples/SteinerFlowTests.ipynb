{
 "cells": [
  {
   "cell_type": "code",
   "execution_count": 1,
   "metadata": {},
   "outputs": [
    {
     "output_type": "stream",
     "name": "stdout",
     "text": [
      "Connected:  True\n",
      "Nodes:  80\n",
      "Edges:  3160\n",
      "Root:  1001\n",
      "Terminals:  [1, 2, 3, 4, 5, 6, 7, 8, 9, 10, 11, 12, 13, 14, 15, 16]\n",
      "Academic license - for non-commercial use only - expires 2021-03-23\n",
      "Using license file C:\\Program Files\\Gurobi\\gurobi.lic\n",
      "[]\n",
      "Gurobi Optimizer version 9.1.1 build v9.1.1rc0 (win64)\n",
      "Thread count: 4 physical cores, 4 logical processors, using up to 4 threads\n",
      "Optimize a model with 31697 rows, 12800 columns and 107456 nonzeros\n",
      "Model fingerprint: 0x9d5160a8\n",
      "Variable types: 6320 continuous, 6480 integer (6400 binary)\n",
      "Coefficient statistics:\n",
      "  Matrix range     [1e+00, 8e+01]\n",
      "  Objective range  [8e+01, 3e+02]\n",
      "  Bounds range     [1e+00, 8e+01]\n",
      "  RHS range        [1e+00, 8e+01]\n",
      "Presolve time: 0.00s\n",
      "\n",
      "Explored 0 nodes (0 simplex iterations) in 0.02 seconds\n",
      "Thread count was 1 (of 4 available processors)\n",
      "\n",
      "Solution count 0\n",
      "\n",
      "Model is infeasible\n",
      "Best objective -, best bound -, gap -\n"
     ]
    },
    {
     "output_type": "error",
     "ename": "AttributeError",
     "evalue": "Unable to retrieve attribute 'X'",
     "traceback": [
      "\u001b[1;31m---------------------------------------------------------------------------\u001b[0m",
      "\u001b[1;31mAttributeError\u001b[0m                            Traceback (most recent call last)",
      "\u001b[1;32m<ipython-input-1-bcc4eb17bde2>\u001b[0m in \u001b[0;36m<module>\u001b[1;34m\u001b[0m\n\u001b[0;32m     55\u001b[0m     \u001b[0mGraph\u001b[0m \u001b[1;33m=\u001b[0m \u001b[0mimp_nx\u001b[0m\u001b[1;33m.\u001b[0m\u001b[0mread\u001b[0m\u001b[1;33m(\u001b[0m\u001b[0mG\u001b[0m\u001b[1;33m)\u001b[0m\u001b[1;33m\u001b[0m\u001b[1;33m\u001b[0m\u001b[0m\n\u001b[0;32m     56\u001b[0m \u001b[1;33m\u001b[0m\u001b[0m\n\u001b[1;32m---> 57\u001b[1;33m     \u001b[0mmodel\u001b[0m \u001b[1;33m=\u001b[0m \u001b[0msflow\u001b[0m\u001b[1;33m.\u001b[0m\u001b[0mcreateModel\u001b[0m\u001b[1;33m(\u001b[0m\u001b[0mGraph\u001b[0m\u001b[1;33m,\u001b[0m \u001b[0mterminals\u001b[0m\u001b[1;33m,\u001b[0m \u001b[1;34m'weight'\u001b[0m\u001b[1;33m,\u001b[0m \u001b[0mroot\u001b[0m\u001b[1;33m)\u001b[0m\u001b[1;33m\u001b[0m\u001b[1;33m\u001b[0m\u001b[0m\n\u001b[0m",
      "\u001b[1;32mh:\\Graph ILP Api\\graphilp\\network\\Steiner_Flow_withLinear.py\u001b[0m in \u001b[0;36mcreateModel\u001b[1;34m(G, terminals, weight, root)\u001b[0m\n\u001b[0;32m    134\u001b[0m     \u001b[0mm\u001b[0m\u001b[1;33m.\u001b[0m\u001b[0moptimize\u001b[0m\u001b[1;33m(\u001b[0m\u001b[1;33m)\u001b[0m\u001b[1;33m\u001b[0m\u001b[1;33m\u001b[0m\u001b[0m\n\u001b[0;32m    135\u001b[0m     \u001b[1;32mfor\u001b[0m \u001b[0medge\u001b[0m \u001b[1;32min\u001b[0m \u001b[0medges\u001b[0m\u001b[1;33m:\u001b[0m\u001b[1;33m\u001b[0m\u001b[1;33m\u001b[0m\u001b[0m\n\u001b[1;32m--> 136\u001b[1;33m         \u001b[1;32mif\u001b[0m \u001b[1;33m(\u001b[0m\u001b[1;33m(\u001b[0m\u001b[0mm\u001b[0m\u001b[1;33m.\u001b[0m\u001b[0mgetVarByName\u001b[0m\u001b[1;33m(\u001b[0m\u001b[1;34m\"f\"\u001b[0m\u001b[1;33m+\u001b[0m\u001b[0mstr\u001b[0m\u001b[1;33m(\u001b[0m\u001b[0medge\u001b[0m\u001b[1;33m)\u001b[0m\u001b[1;33m)\u001b[0m\u001b[1;33m)\u001b[0m\u001b[1;33m.\u001b[0m\u001b[0mX\u001b[0m \u001b[1;33m>\u001b[0m \u001b[1;36m0.5\u001b[0m\u001b[1;33m)\u001b[0m\u001b[1;33m:\u001b[0m\u001b[1;33m\u001b[0m\u001b[1;33m\u001b[0m\u001b[0m\n\u001b[0m\u001b[0;32m    137\u001b[0m             \u001b[0mprint\u001b[0m\u001b[1;33m(\u001b[0m\u001b[0mm\u001b[0m\u001b[1;33m.\u001b[0m\u001b[0mgetVarByName\u001b[0m\u001b[1;33m(\u001b[0m\u001b[1;34m\"f\"\u001b[0m\u001b[1;33m+\u001b[0m\u001b[0mstr\u001b[0m\u001b[1;33m(\u001b[0m\u001b[0medge\u001b[0m\u001b[1;33m)\u001b[0m\u001b[1;33m)\u001b[0m\u001b[1;33m)\u001b[0m\u001b[1;33m\u001b[0m\u001b[1;33m\u001b[0m\u001b[0m\n\u001b[0;32m    138\u001b[0m     \u001b[1;32mreturn\u001b[0m \u001b[0mm\u001b[0m\u001b[1;33m\u001b[0m\u001b[1;33m\u001b[0m\u001b[0m\n",
      "\u001b[1;32msrc\\gurobipy\\var.pxi\u001b[0m in \u001b[0;36mgurobipy.Var.__getattr__\u001b[1;34m()\u001b[0m\n",
      "\u001b[1;32msrc\\gurobipy\\var.pxi\u001b[0m in \u001b[0;36mgurobipy.Var.getAttr\u001b[1;34m()\u001b[0m\n",
      "\u001b[1;32msrc\\gurobipy\\attrutil.pxi\u001b[0m in \u001b[0;36mgurobipy.__getattr\u001b[1;34m()\u001b[0m\n",
      "\u001b[1;31mAttributeError\u001b[0m: Unable to retrieve attribute 'X'"
     ]
    }
   ],
   "source": [
    "import sys, os\n",
    "sys.path.append(os.path.abspath('..'))\n",
    "from imports import ilpgraph, readFile\n",
    "from imports import networkx as imp_nx\n",
    "from network import Steiner_Flow_withLinear as sflow\n",
    "import networkx as nx\n",
    "from gurobipy import *\n",
    "import xlsxwriter\n",
    "import random\n",
    "import matplotlib.pyplot as plt\n",
    "\n",
    "if __name__ == '__main__':\n",
    "    #path = \"/mnt/data/projects/ILP/steiner/PUC/bip42u.stp\"\n",
    "    #path = \"MVC_testInstances/bip42u.stp\"\n",
    "    path = \"MVC_testInstances/i080-224.stp\"\n",
    "    G, terminals = readFile.stp_to_networkx(path)\n",
    "    # Change this to true in order to work with a random Graph\n",
    "    randomGraph = False\n",
    "    plotGraph = False\n",
    "\n",
    "    if (randomGraph):\n",
    "        nodesAmount = 30\n",
    "        edgesAmount = 50\n",
    "        G = nx.gnm_random_graph(nodesAmount, edgesAmount)\n",
    "        terminalsAmount  = 5\n",
    "        terminals = random.sample(range(1, nodesAmount), terminalsAmount)\n",
    "        root = random.sample(range(1, nodesAmount), 1)\n",
    "        if root in terminals:\n",
    "            raise ValueError(\"Root is in Terminals. Please try again...\")\n",
    "\n",
    "    for edge in G.edges():\n",
    "        G[edge[0]][edge[1]]['Cost'] = 1\n",
    "    root = 11\n",
    "    print(\"Connected: \", nx.is_connected(G))\n",
    "    print(\"Nodes: \", len(G.nodes()))\n",
    "    print(\"Edges: \", len(G.edges()))\n",
    "    print(\"Root: \", root)\n",
    "    print(\"Terminals: \", terminals)\n",
    "    \n",
    "    if (plotGraph):\n",
    "        pos = nx.spring_layout(G)\n",
    "        nx.draw_networkx_nodes(G, pos, cmap=plt.get_cmap('jet'))\n",
    "        nx.draw_networkx_labels(G, pos)\n",
    "        nx.draw_networkx_edges(G, pos, arrows=True)\n",
    "        plt.show()\n",
    "    \n",
    "    #G.add_edges_from([\n",
    "    #                (1,2, {\"Cost\":1}),\n",
    "    #                (3,4, {\"Cost\":2}),\n",
    "    #                (2,3, {\"Cost\":4}),\n",
    "    #                (4,5, {\"Cost\":6}),\n",
    "    #                (5,6, {\"Cost\":1}),\n",
    "    #                (6,7, {\"Cost\":1})])\n",
    "    #G.add_nodes_from([1,2,3,4,5,6,7])\n",
    "    Graph = imp_nx.read(G)\n",
    "\n",
    "    model = sflow.createModel(Graph, terminals, 'weight', root)"
   ]
  },
  {
   "cell_type": "code",
   "execution_count": null,
   "metadata": {},
   "outputs": [],
   "source": []
  },
  {
   "cell_type": "code",
   "execution_count": null,
   "metadata": {},
   "outputs": [],
   "source": []
  }
 ],
 "metadata": {
  "kernelspec": {
   "name": "python3",
   "display_name": "Python 3.8.6 64-bit",
   "metadata": {
    "interpreter": {
     "hash": "eaa2ab7a62c0917f87f70bcc1c7d6454437090f2090a811744461a161579b7b3"
    }
   }
  },
  "language_info": {
   "codemirror_mode": {
    "name": "ipython",
    "version": 3
   },
   "file_extension": ".py",
   "mimetype": "text/x-python",
   "name": "python",
   "nbconvert_exporter": "python",
   "pygments_lexer": "ipython3",
   "version": "3.8.6-final"
  }
 },
 "nbformat": 4,
 "nbformat_minor": 4
}