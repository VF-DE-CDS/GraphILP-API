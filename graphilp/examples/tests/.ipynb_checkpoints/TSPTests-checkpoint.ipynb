{
 "cells": [
  {
   "cell_type": "code",
   "execution_count": 1,
   "metadata": {},
   "outputs": [
    {
     "ename": "SyntaxError",
     "evalue": "EOL while scanning string literal (<ipython-input-1-b9c3d3a5962b>, line 65)",
     "output_type": "error",
     "traceback": [
      "\u001b[0;36m  File \u001b[0;32m\"<ipython-input-1-b9c3d3a5962b>\"\u001b[0;36m, line \u001b[0;32m65\u001b[0m\n\u001b[0;31m    \"TSPTestInstances/pr1002.tsp\"\"\"\"\u001b[0m\n\u001b[0m                                    \n^\u001b[0m\n\u001b[0;31mSyntaxError\u001b[0m\u001b[0;31m:\u001b[0m EOL while scanning string literal\n"
     ]
    }
   ],
   "source": [
    "import sys, os\n",
    "sys.path.append(os.path.abspath('..'))\n",
    "from imports import ilpgraph, readFile\n",
    "import tsplib95\n",
    "from imports import networkx as imp_nx\n",
    "from network import min_tsp, gen_path_atsp\n",
    "import networkx as nx\n",
    "from gurobipy import *\n",
    "import xlsxwriter\n",
    "import random\n",
    "import matplotlib.pyplot as plt\n",
    "\n",
    "\n",
    "\n",
    "def __write_solution(solution:list):\n",
    "    \n",
    "    workbook = xlsxwriter.Workbook('BenchmarksTSP.xlsx')\n",
    "    worksheet = workbook.add_worksheet()\n",
    "    bold = workbook.add_format({'bold':True})\n",
    "    solutionRows = len(solution)\n",
    "    solutionColumns = len(solution[0])\n",
    "    \n",
    "    worksheet.write('A1', 'Instance', bold)\n",
    "    worksheet.write('B1', 'Edges', bold)\n",
    "    worksheet.write('C1', 'Nodes', bold)\n",
    "    worksheet.write('E1', 'Runtime', bold)\n",
    "    worksheet.write('F1', 'Objective Value', bold)\n",
    "    worksheet.write('G1', 'Constraints', bold)\n",
    "    worksheet.write('H1', 'MIP Gap', bold)\n",
    "    \n",
    "    for i in range(solutionRows):\n",
    "        for j in range(solutionColumns):\n",
    "            worksheet.write(i + 1, j, solution[i][j])\n",
    "    \n",
    "        \n",
    "def runBenchmark(paths:list):\n",
    "    solutions = []\n",
    "    i = 0\n",
    "    \n",
    "    for path in paths:\n",
    "        tsp = tsplib95.load(path)\n",
    "        G = tsp.get_graph()\n",
    "        G = imp_nx.read(G)\n",
    "        m = gen_path_atsp.createGenModel(G,'min','metric')\n",
    "        m.params.MIPGap = 0.05\n",
    "        m.params.TimeLimit = 1500\n",
    "       \n",
    "\n",
    "        m.optimize()\n",
    "\n",
    "        solutions.append((i, len(G.G.edges()), len(G.G.nodes()), m.runTime, m.objVal, m.numConstrs, m.MIPGap))\n",
    "        i += 1\n",
    "\n",
    "    __write_solution(solutions)         \n",
    "\n",
    "if __name__ == '__main__':\n",
    "    \n",
    "\n",
    "    paths = [\"TSPTestInstances/kroB150.tsp\",\n",
    "             \"TSPTestInstances/bayg29.tsp\",\n",
    "             \"TSPTestInstances/bier127.tsp\",\n",
    "             ]\n",
    "\n",
    "    \"\"\"TSPTestInstances/d1655.tsp\",\n",
    "             \"TSPTestInstances/pr1002.tsp\"\"\"\n",
    "    \n",
    "    runBenchmark(paths)"
   ]
  },
  {
   "cell_type": "code",
   "execution_count": null,
   "metadata": {},
   "outputs": [],
   "source": []
  }
 ],
 "metadata": {
  "kernelspec": {
   "display_name": "Python 3.6",
   "language": "python",
   "name": "py3.6"
  },
  "language_info": {
   "codemirror_mode": {
    "name": "ipython",
    "version": 3
   },
   "file_extension": ".py",
   "mimetype": "text/x-python",
   "name": "python",
   "nbconvert_exporter": "python",
   "pygments_lexer": "ipython3",
   "version": "3.6.12"
  }
 },
 "nbformat": 4,
 "nbformat_minor": 4
}
