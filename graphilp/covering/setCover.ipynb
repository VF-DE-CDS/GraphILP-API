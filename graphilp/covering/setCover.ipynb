{
 "cells": [
  {
   "cell_type": "code",
   "execution_count": 1,
   "metadata": {},
   "outputs": [],
   "source": [
    "import numpy as np\n",
    "import scipy.sparse as sp"
   ]
  },
  {
   "cell_type": "code",
   "execution_count": 88,
   "metadata": {},
   "outputs": [],
   "source": [
    "cover_matrix = np.array([[ 0.,  0.,   1],\n",
    "       [ 1,  0.,  0.],\n",
    "       [ 0.,  1,  0.]])"
   ]
  },
  {
   "cell_type": "code",
   "execution_count": 89,
   "metadata": {},
   "outputs": [],
   "source": [
    "A = sp.csr_matrix(cover_matrix)"
   ]
  },
  {
   "cell_type": "code",
   "execution_count": 90,
   "metadata": {},
   "outputs": [],
   "source": [
    "sets = {0:{'weight': 4},1:{'weight': 2},2:{'weight': 1}}"
   ]
  },
  {
   "cell_type": "code",
   "execution_count": 91,
   "metadata": {},
   "outputs": [],
   "source": [
    "universe = [0, 1, 2]"
   ]
  },
  {
   "cell_type": "code",
   "execution_count": 2,
   "metadata": {},
   "outputs": [],
   "source": [
    "class ILPSetSystem:        \n",
    "    \n",
    "    def setUniverse(self, U):        \n",
    "        self.U = U\n",
    "    \n",
    "    def setSystem(self, S):        \n",
    "        self.S = S\n",
    "    \n",
    "    def setIncMatrix(self, M):        \n",
    "        self.M = M\n",
    "    \n",
    "    def setSystemVars(self, variables):        \n",
    "        self.system_variables = variables            \n",
    "    \n",
    "    def setUniverseVars(self, variables):        \n",
    "        self.universe_variables = variables"
   ]
  },
  {
   "cell_type": "code",
   "execution_count": 3,
   "metadata": {},
   "outputs": [],
   "source": [
    "SetCover = ILPSetSystem()"
   ]
  },
  {
   "cell_type": "code",
   "execution_count": 94,
   "metadata": {},
   "outputs": [],
   "source": [
    "SetCover.setSystem(sets)"
   ]
  },
  {
   "cell_type": "code",
   "execution_count": 95,
   "metadata": {},
   "outputs": [],
   "source": [
    "SetCover.setIncMatrix(A)"
   ]
  },
  {
   "cell_type": "code",
   "execution_count": 96,
   "metadata": {},
   "outputs": [],
   "source": [
    "SetCover.setUniverse(universe )"
   ]
  },
  {
   "cell_type": "code",
   "execution_count": 103,
   "metadata": {},
   "outputs": [],
   "source": [
    "from gurobipy import *\n",
    "\n",
    "def createModel(SetCover):\n",
    "    \"\"\" Greate an ILP for the weighted set cover problem\n",
    "    \n",
    "        Arguments:\n",
    "            SetCover     -- a weighted ILPSetSystem\n",
    "\n",
    "        Returns:\n",
    "            Gurobi model for weighted SetCover\n",
    "    \"\"\"\n",
    "    \n",
    "    # Create model\n",
    "    m = Model(\"setsystemilp_min_set_cover\")  \n",
    "    \n",
    "    # Add variables\n",
    "    len_x = len(SetCover.S)\n",
    "    len_b = len(SetCover.U)\n",
    "    x = m.addMVar(shape=len_x, vtype=GRB.BINARY, name=\"x\")\n",
    "    SetCover.setSystemVars( x)\n",
    "    m.update()\n",
    "    \n",
    "    # Add  vector b for the right-hand side\n",
    "    b = np.ones((len_b,), dtype=int)\n",
    "    \n",
    "    # set weight vector \n",
    "    obj = np.array([val['weight'] for _set,val in SetCover.S.items()])\n",
    "    \n",
    "    # Add constraints\n",
    "    m.addConstr(A @ x >= b, name=\"c\")\n",
    "    \n",
    "    # set optimisation objective: minimize cardinality of the set cover  \n",
    "    m.setObjective(obj @ x, GRB.MINIMIZE)\n",
    "    \n",
    "    return m"
   ]
  },
  {
   "cell_type": "code",
   "execution_count": 104,
   "metadata": {},
   "outputs": [],
   "source": [
    "m = createModel(SetCover)"
   ]
  },
  {
   "cell_type": "code",
   "execution_count": 105,
   "metadata": {},
   "outputs": [
    {
     "name": "stdout",
     "output_type": "stream",
     "text": [
      "Gurobi Optimizer version 9.0.0 build v9.0.0rc2 (linux64)\n",
      "Optimize a model with 3 rows, 3 columns and 3 nonzeros\n",
      "Model fingerprint: 0xcdeb162b\n",
      "Variable types: 0 continuous, 3 integer (3 binary)\n",
      "Coefficient statistics:\n",
      "  Matrix range     [1e+00, 1e+00]\n",
      "  Objective range  [1e+00, 4e+00]\n",
      "  Bounds range     [1e+00, 1e+00]\n",
      "  RHS range        [1e+00, 1e+00]\n",
      "Found heuristic solution: objective 7.0000000\n",
      "Presolve removed 3 rows and 3 columns\n",
      "Presolve time: 0.00s\n",
      "Presolve: All rows and columns removed\n",
      "\n",
      "Explored 0 nodes (0 simplex iterations) in 0.01 seconds\n",
      "Thread count was 1 (of 12 available processors)\n",
      "\n",
      "Solution count 1: 7 \n",
      "\n",
      "Optimal solution found (tolerance 1.00e-04)\n",
      "Best objective 7.000000000000e+00, best bound 7.000000000000e+00, gap 0.0000%\n"
     ]
    }
   ],
   "source": [
    "m.optimize()"
   ]
  },
  {
   "cell_type": "code",
   "execution_count": 106,
   "metadata": {},
   "outputs": [],
   "source": [
    "def extractSolution(SetCover, model):\n",
    "    \"\"\" Get a list of sets comprising a set cover\n",
    "    \n",
    "        Arguments:\n",
    "            SetCover     -- a weighted ILPSetCover\n",
    "            model        -- a solved Gurobi model for weighted SetCover\n",
    "            \n",
    "        Returns:\n",
    "            a list of sets comprising a set cover\n",
    "    \"\"\"\n",
    "    iterate = list(range (  len(SetCover.S) ) )\n",
    "    set_cover = [list(SetCover.S.keys())[i] for i in iterate if SetCover.system_variables.X[i] > 0.5 ]\n",
    "    \n",
    "    return set_cover"
   ]
  },
  {
   "cell_type": "code",
   "execution_count": 107,
   "metadata": {},
   "outputs": [],
   "source": [
    "set_cover = extractSolution(SetCover, m)"
   ]
  },
  {
   "cell_type": "code",
   "execution_count": 108,
   "metadata": {},
   "outputs": [
    {
     "data": {
      "text/plain": [
       "[0, 1, 2]"
      ]
     },
     "execution_count": 108,
     "metadata": {},
     "output_type": "execute_result"
    }
   ],
   "source": [
    "set_cover "
   ]
  },
  {
   "cell_type": "code",
   "execution_count": null,
   "metadata": {},
   "outputs": [],
   "source": []
  }
 ],
 "metadata": {
  "finalized": {
   "timestamp": 1615826370419,
   "trusted": false
  },
  "kernelspec": {
   "display_name": "Python 3",
   "language": "python",
   "name": "python3"
  },
  "language_info": {
   "codemirror_mode": {
    "name": "ipython",
    "version": 3
   },
   "file_extension": ".py",
   "mimetype": "text/x-python",
   "name": "python",
   "nbconvert_exporter": "python",
   "pygments_lexer": "ipython3",
   "version": "3.6.12"
  }
 },
 "nbformat": 4,
 "nbformat_minor": 4
}
