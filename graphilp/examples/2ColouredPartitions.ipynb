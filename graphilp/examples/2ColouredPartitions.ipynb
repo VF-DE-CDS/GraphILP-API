{
 "cells": [
  {
   "cell_type": "markdown",
   "metadata": {},
   "source": [
    "# Two-Coloured Partitions\n",
    "Compare Theorem 3.2.1 in Matousek: Using the Borsuk-Ulam Theorem\n",
    "\n",
    "This example uses bipartite perfect matching to connect pairs of points such that the connections do not intersect. (See below for details.)"
   ]
  },
  {
   "cell_type": "code",
   "execution_count": null,
   "metadata": {},
   "outputs": [],
   "source": [
    "import numpy as np\n",
    "import networkx as nx\n",
    "from math import sqrt\n",
    "\n",
    "# Gurobi constants\n",
    "from gurobipy import GRB\n",
    "\n",
    "# Use Matplotlib for plotting; enable svg backend\n",
    "%matplotlib inline\n",
    "%config InlineBackend.figure_format = 'svg'\n",
    "from matplotlib import pyplot as plt\n",
    "\n",
    "# GraphILP API: import networkx graphs and use bipartite perfect matching\n",
    "from graphilp.imports import networkx as imp_nx\n",
    "from graphilp.matching import perfect_bipartite"
   ]
  },
  {
   "cell_type": "code",
   "execution_count": null,
   "metadata": {},
   "outputs": [],
   "source": [
    "# Create 2N points in the plane (N of each of two colours)\n",
    "N = 35"
   ]
  },
  {
   "cell_type": "code",
   "execution_count": null,
   "metadata": {},
   "outputs": [],
   "source": [
    "points = np.random.rand(4,N)"
   ]
  },
  {
   "cell_type": "markdown",
   "metadata": {},
   "source": [
    "Here are 2N random points in the plane, half of them in one colour, the other half in another.\n",
    "Try connecting each point of one colour to one point of the other colour by a line such that the resulting lines do not intersect."
   ]
  },
  {
   "cell_type": "code",
   "execution_count": null,
   "metadata": {},
   "outputs": [],
   "source": [
    "plt.scatter(points[0], points[1])\n",
    "plt.scatter(points[2], points[3]);"
   ]
  },
  {
   "cell_type": "markdown",
   "metadata": {},
   "source": [
    "Let's solve this problem by perfect bipartite matching.\n",
    "Set up a graph whose vertices are given by the points, the colours will be used as a bipartition.\n",
    "There will be edges between each pair of points of different colour weighted by their Euclidean distance."
   ]
  },
  {
   "cell_type": "code",
   "execution_count": null,
   "metadata": {},
   "outputs": [],
   "source": [
    "G = nx.empty_graph(2*N)"
   ]
  },
  {
   "cell_type": "markdown",
   "metadata": {},
   "source": [
    "Create the edges:"
   ]
  },
  {
   "cell_type": "code",
   "execution_count": null,
   "metadata": {},
   "outputs": [],
   "source": [
    "edges = []\n",
    "\n",
    "for p in range(N):\n",
    "    for q in range(N):\n",
    "        edges.append((p, N+q, {'weight':sqrt((points[0][p] - points[2][q]) ** 2 + (points[1][p] - points[3][q]) ** 2)}))"
   ]
  },
  {
   "cell_type": "code",
   "execution_count": null,
   "metadata": {},
   "outputs": [],
   "source": [
    "G.add_edges_from(edges)"
   ]
  },
  {
   "cell_type": "markdown",
   "metadata": {},
   "source": [
    "Set up the bipartite perfect matching problem using GraphILP API:"
   ]
  },
  {
   "cell_type": "code",
   "execution_count": null,
   "metadata": {},
   "outputs": [],
   "source": [
    "optG = imp_nx.read(G)"
   ]
  },
  {
   "cell_type": "code",
   "execution_count": null,
   "metadata": {},
   "outputs": [],
   "source": [
    "model = perfect_bipartite.create_model(optG, range(N), direction=GRB.MINIMIZE)"
   ]
  },
  {
   "cell_type": "markdown",
   "metadata": {},
   "source": [
    "Find a perfect matching of minimal weight:"
   ]
  },
  {
   "cell_type": "code",
   "execution_count": null,
   "metadata": {},
   "outputs": [],
   "source": [
    "model.optimize()"
   ]
  },
  {
   "cell_type": "code",
   "execution_count": null,
   "metadata": {},
   "outputs": [],
   "source": [
    "matching = perfect_bipartite.extract_solution(optG, model)"
   ]
  },
  {
   "cell_type": "markdown",
   "metadata": {},
   "source": [
    "Plot the result.\n",
    "Note how the lines are connecting points of different colour, yet are not intersecting."
   ]
  },
  {
   "cell_type": "code",
   "execution_count": null,
   "metadata": {},
   "outputs": [],
   "source": [
    "plt.scatter(points[0], points[1])\n",
    "plt.scatter(points[2], points[3])\n",
    "for match in matching:\n",
    "    plt.plot([points[0][match[0]], points[2][match[1]-N]], [points[1][match[0]], points[3][match[1]-N]], 'k');"
   ]
  }
 ],
 "metadata": {
  "finalized": {
   "timestamp": 1617116816736,
   "trusted": true
  },
  "kernelspec": {
   "display_name": "Python 3.6",
   "language": "python",
   "name": "py3.6"
  },
  "language_info": {
   "codemirror_mode": {
    "name": "ipython",
    "version": 3
   },
   "file_extension": ".py",
   "mimetype": "text/x-python",
   "name": "python",
   "nbconvert_exporter": "python",
   "pygments_lexer": "ipython3",
   "version": "3.6.12"
  },
  "toc": {
   "base_numbering": 1,
   "nav_menu": {},
   "number_sections": true,
   "sideBar": true,
   "skip_h1_title": false,
   "title_cell": "Table of Contents",
   "title_sidebar": "Contents",
   "toc_cell": false,
   "toc_position": {},
   "toc_section_display": true,
   "toc_window_display": false
  }
 },
 "nbformat": 4,
 "nbformat_minor": 4
}
