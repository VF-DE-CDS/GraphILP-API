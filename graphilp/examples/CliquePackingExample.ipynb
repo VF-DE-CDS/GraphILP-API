{
 "cells": [
  {
   "cell_type": "markdown",
   "metadata": {},
   "source": [
    "# Tetrahedra in a grid\n",
    "In this example, we are using clique packing to find the maximal number of vertex disjoint tetrahedra that can\n",
    "be packed in a grid graph."
   ]
  },
  {
   "cell_type": "code",
   "execution_count": null,
   "metadata": {},
   "outputs": [],
   "source": [
    "import networkx as nx\n",
    "\n",
    "from itertools import product, combinations\n",
    "\n",
    "# GraphILP API: import networkx graphs and use clique packing\n",
    "from graphilp.imports import networkx as impnx\n",
    "from graphilp.packing import clique_packing as cp\n",
    "\n",
    "# Use Matplotlib for plotting our 3d grid graph and the packed tetrahedra\n",
    "%matplotlib inline\n",
    "import matplotlib.pyplot as plt\n",
    "\n",
    "from mpl_toolkits.mplot3d import Axes3D\n",
    "from mpl_toolkits.mplot3d.art3d import Poly3DCollection\n",
    "\n",
    "# Allow some interaction in the 3d visualisation\n",
    "from ipywidgets import interact, IntSlider"
   ]
  },
  {
   "cell_type": "markdown",
   "metadata": {},
   "source": [
    "## Set up the grid graph"
   ]
  },
  {
   "cell_type": "code",
   "execution_count": null,
   "metadata": {},
   "outputs": [],
   "source": [
    "# choose edge length of grid graph\n",
    "n = 4"
   ]
  },
  {
   "cell_type": "code",
   "execution_count": null,
   "metadata": {},
   "outputs": [],
   "source": [
    "# start with a standard grid graph\n",
    "G = nx.grid_graph(dim=(n, n, n))"
   ]
  },
  {
   "cell_type": "code",
   "execution_count": null,
   "metadata": {},
   "outputs": [],
   "source": [
    "# allow different colours for different types of edges\n",
    "edge_colors = {}\n",
    "for e in G.edges():\n",
    "    edge_colors[e] = 'k'"
   ]
  },
  {
   "cell_type": "code",
   "execution_count": null,
   "metadata": {},
   "outputs": [],
   "source": [
    "# extend the grid graph to allow for a nice collection of tetrahedra:\n",
    "# create new vertices at the cube centres, connect them to the cube vertices, and add diagonals to the cubes\n",
    "new_edges = []\n",
    "\n",
    "for node in G.nodes():\n",
    "    if node[0] < n-1 and node[1] < n-1 and node[2] < n-1:\n",
    "        # centre points\n",
    "        new_edges.append(((node[0]+0.5, node[1]+0.5, node[2]+0.5), (node[0], node[1], node[2])))\n",
    "        new_edges.append(((node[0]+0.5, node[1]+0.5, node[2]+0.5), (node[0], node[1]+1, node[2])))\n",
    "        new_edges.append(((node[0]+0.5, node[1]+0.5, node[2]+0.5), (node[0], node[1], node[2]+1)))\n",
    "        new_edges.append(((node[0]+0.5, node[1]+0.5, node[2]+0.5), (node[0], node[1]+1, node[2]+1)))\n",
    "        new_edges.append(((node[0]+0.5, node[1]+0.5, node[2]+0.5), (node[0]+1, node[1], node[2])))\n",
    "        new_edges.append(((node[0]+0.5, node[1]+0.5, node[2]+0.5), (node[0]+1, node[1]+1, node[2])))\n",
    "        new_edges.append(((node[0]+0.5, node[1]+0.5, node[2]+0.5), (node[0]+1, node[1], node[2]+1)))\n",
    "        new_edges.append(((node[0]+0.5, node[1]+0.5, node[2]+0.5), (node[0]+1, node[1]+1, node[2]+1)))\n",
    "        \n",
    "        # cube diagonals\n",
    "        new_edges.append(((node[0], node[1], node[2]), (node[0]+1, node[1], node[2]+1)))\n",
    "        new_edges.append(((node[0], node[1], node[2]+1), (node[0]+1, node[1], node[2])))\n",
    "        new_edges.append(((node[0], node[1]+1, node[2]), (node[0]+1, node[1]+1, node[2]+1)))\n",
    "        new_edges.append(((node[0], node[1]+1, node[2]+1), (node[0]+1, node[1]+1, node[2])))\n",
    "\n",
    "        new_edges.append(((node[0], node[1], node[2]), (node[0], node[1]+1, node[2]+1)))\n",
    "        new_edges.append(((node[0], node[1]+1, node[2]), (node[0], node[1], node[2]+1)))\n",
    "        new_edges.append(((node[0]+1, node[1], node[2]), (node[0]+1, node[1]+1, node[2]+1)))\n",
    "        new_edges.append(((node[0]+1, node[1]+1, node[2]), (node[0]+1, node[1], node[2]+1)))\n",
    "\n",
    "        new_edges.append(((node[0], node[1], node[2]), (node[0]+1, node[1]+1, node[2])))\n",
    "        new_edges.append(((node[0]+1, node[1], node[2]), (node[0], node[1]+1, node[2])))\n",
    "        new_edges.append(((node[0], node[1], node[2]+1), (node[0]+1, node[1]+1, node[2]+1)))\n",
    "        new_edges.append(((node[0]+1, node[1], node[2]+1), (node[0], node[1]+1, node[2]+1)))\n",
    "\n",
    "G.add_edges_from(new_edges)"
   ]
  },
  {
   "cell_type": "code",
   "execution_count": null,
   "metadata": {},
   "outputs": [],
   "source": [
    "# show additional edges in light grey\n",
    "for e in G.edges():\n",
    "    if e not in edge_colors:\n",
    "        edge_colors[e] = '#AAAAAA'"
   ]
  },
  {
   "cell_type": "markdown",
   "metadata": {},
   "source": [
    "## Plot the grid graph"
   ]
  },
  {
   "cell_type": "code",
   "execution_count": null,
   "metadata": {},
   "outputs": [],
   "source": [
    "X = [node[0] for node in G.nodes()]\n",
    "Y = [node[1] for node in G.nodes()]\n",
    "Z = [node[2] for node in G.nodes()]"
   ]
  },
  {
   "cell_type": "code",
   "execution_count": null,
   "metadata": {},
   "outputs": [],
   "source": [
    "fig = plt.figure(figsize=(10,10))\n",
    "ax = fig.add_subplot(111, projection='3d')\n",
    "ax.scatter(X, Y, Z)\n",
    "\n",
    "for edge in G.edges():\n",
    "    ax.plot([edge[0][0], edge[1][0]], [edge[0][1], edge[1][1]], [edge[0][2], edge[1][2]], c=edge_colors[edge])"
   ]
  },
  {
   "cell_type": "markdown",
   "metadata": {},
   "source": [
    "## Set up optimisation problem"
   ]
  },
  {
   "cell_type": "code",
   "execution_count": null,
   "metadata": {},
   "outputs": [],
   "source": [
    "optG = impnx.read(G)"
   ]
  },
  {
   "cell_type": "code",
   "execution_count": null,
   "metadata": {},
   "outputs": [],
   "source": [
    "m = cp.create_model(optG, 4)"
   ]
  },
  {
   "cell_type": "markdown",
   "metadata": {},
   "source": [
    "## Solve optimisation problem and extract solution"
   ]
  },
  {
   "cell_type": "code",
   "execution_count": null,
   "metadata": {},
   "outputs": [],
   "source": [
    "m.optimize()"
   ]
  },
  {
   "cell_type": "code",
   "execution_count": null,
   "metadata": {},
   "outputs": [],
   "source": [
    "cliques = cp.extract_solution(optG, m)"
   ]
  },
  {
   "cell_type": "code",
   "execution_count": null,
   "metadata": {},
   "outputs": [],
   "source": [
    "# get edges per clique\n",
    "clique_dict = {}\n",
    "for edge, clique_no in cliques.items():\n",
    "    if clique_no > 0:\n",
    "        if clique_no not in clique_dict:\n",
    "            clique_dict[clique_no] = []\n",
    "        clique_dict[clique_no].append(edge)"
   ]
  },
  {
   "cell_type": "markdown",
   "metadata": {},
   "source": [
    "## Visualise solution"
   ]
  },
  {
   "cell_type": "code",
   "execution_count": null,
   "metadata": {},
   "outputs": [],
   "source": [
    "# each 4-clique can be interpreted as a tetrahedron with four faces\n",
    "triangles = []\n",
    "for clique_name, clique in clique_dict.items():\n",
    "    for triple in combinations(clique, 3):\n",
    "        triangles.append(triple)"
   ]
  },
  {
   "cell_type": "code",
   "execution_count": null,
   "metadata": {},
   "outputs": [],
   "source": [
    "def update(h = 10.0, w = 390.0):    \n",
    "    fig = plt.figure(figsize=(10,10))\n",
    "    ax = fig.add_subplot(111, projection='3d')\n",
    "    ax.view_init(h, w)\n",
    "\n",
    "    ax.scatter(X, Y, Z)\n",
    "\n",
    "    for edge in G.edges():\n",
    "        ax.plot([edge[0][0], edge[1][0]], [edge[0][1], edge[1][1]], [edge[0][2], edge[1][2]], c=edge_colors[edge])\n",
    "\n",
    "    tri = Poly3DCollection(triangles)\n",
    "    tri.set_alpha(0.5)\n",
    "    tri.set_edgecolor('#FF0000')\n",
    "    ax.add_collection3d(tri)\n",
    "\n",
    "interact(update, w=IntSlider(min=0, max=360, step=5, value=250), h=IntSlider(min=0, max=90, step=5, value=25));"
   ]
  }
 ],
 "metadata": {
  "finalized": {
   "timestamp": 1617009026802,
   "trusted": true
  },
  "kernelspec": {
   "display_name": "Python 3.6",
   "language": "python",
   "name": "py3.6"
  },
  "language_info": {
   "codemirror_mode": {
    "name": "ipython",
    "version": 3
   },
   "file_extension": ".py",
   "mimetype": "text/x-python",
   "name": "python",
   "nbconvert_exporter": "python",
   "pygments_lexer": "ipython3",
   "version": "3.6.12"
  },
  "toc": {
   "base_numbering": 1,
   "nav_menu": {},
   "number_sections": true,
   "sideBar": true,
   "skip_h1_title": false,
   "title_cell": "Table of Contents",
   "title_sidebar": "Contents",
   "toc_cell": false,
   "toc_position": {},
   "toc_section_display": true,
   "toc_window_display": false
  }
 },
 "nbformat": 4,
 "nbformat_minor": 4
}
