{
 "cells": [
  {
   "cell_type": "markdown",
   "metadata": {},
   "source": [
    "### Minimum graph coloring/ Minimum chromatic number\n",
    "\n",
    "Problem definition: https://www8.cs.umu.se/kurser/TDBAfl/VT06/algorithms/COMPEND/COMPED11/NODE13.HTM#SECTION00021500000000000000\n",
    "\n",
    "Assignment based ILP-formulation (e.g. see here: https://arxiv.org/abs/1706.10191):\n",
    "Let a graph $G=(V,E)$ with vertex set $V$ and edge set $E$ be given.\n",
    "We model the decision via variables $x_{vi}\\in\\{0,1\\}$, that take value $1$ if vertex $v\\in V$ is assigned color $i$ and $0$ otherwise.\n",
    "\n",
    "Further, let $H$ be an upper bound for the chromatic number, i.e. $H\\le|V|$, but usually smaller as it could come from, e.g., the greedy coloring algorithm (https://en.wikipedia.org/wiki/Greedy_coloring). $w_{i}$ takes value $1$ if color $i=1,\\ldots H$ is used in the assignment and $0$ otherwise.\n",
    "\n",
    "\\begin{align}\n",
    "    &\\min \\sum_{1\\le i \\le H}w_{i} \\text{ (minimize the total number of colors used) }\\\\\n",
    "    &\\text{s.t.} \\\\\n",
    "    &\\sum_{i=1}^{H} x_{vi} = 1\\;\\forall v\\in V \\text{ (make sure every vertex gets exactly one color) } \\\\\n",
    "    &x_{ui}+x_{vi}\\le w_{i}\\;\\forall(u,v)\\in E, i=1,\\ldots,H\\text{ (make sure no two neighboring vertices get the same color) } \\\\\n",
    "    &x_{vi},w_{i}\\in\\{0,1\\}\\;\\forall v\\in V, i=1,\\ldots, H \\text{ (assigning a color or not is a binary decision) }\n",
    "\\end{align}\n"
   ]
  },
  {
   "cell_type": "code",
   "execution_count": null,
   "metadata": {},
   "outputs": [],
   "source": [
    "import gurobipy as gp\n",
    "import networkx as nx"
   ]
  },
  {
   "cell_type": "code",
   "execution_count": null,
   "metadata": {},
   "outputs": [],
   "source": [
    "import sys\n",
    "sys.path.append(\"../..\")"
   ]
  },
  {
   "cell_type": "code",
   "execution_count": null,
   "metadata": {},
   "outputs": [],
   "source": [
    "from graphilp.partitioning.min_vertex_coloring import *"
   ]
  },
  {
   "cell_type": "code",
   "execution_count": null,
   "metadata": {},
   "outputs": [],
   "source": [
    "from graphilp.imports import networkx as imp_nx"
   ]
  },
  {
   "cell_type": "markdown",
   "metadata": {},
   "source": [
    "#### Create test graphs"
   ]
  },
  {
   "cell_type": "code",
   "execution_count": null,
   "metadata": {},
   "outputs": [],
   "source": [
    "#create cycle graphs as test cases. we know odd cycles have chromatic number 3 and even cycles have chromatic number 2\n",
    "G_odd_init = nx.cycle_graph(n=5)\n",
    "G_even_init = nx.cycle_graph(n=4)"
   ]
  },
  {
   "cell_type": "code",
   "execution_count": null,
   "metadata": {},
   "outputs": [],
   "source": [
    "#create ILPGraph objects\n",
    "G_odd = imp_nx.read(G_odd_init)\n",
    "G_even = imp_nx.read(G_even_init)"
   ]
  },
  {
   "cell_type": "code",
   "execution_count": null,
   "metadata": {},
   "outputs": [],
   "source": [
    "#create test models\n",
    "m_odd = createModel(G_odd)\n",
    "m_even = createModel(G_even)"
   ]
  },
  {
   "cell_type": "code",
   "execution_count": null,
   "metadata": {},
   "outputs": [],
   "source": [
    "#run optimization\n",
    "m_odd.optimize()"
   ]
  },
  {
   "cell_type": "code",
   "execution_count": null,
   "metadata": {},
   "outputs": [],
   "source": [
    "m_even.optimize()"
   ]
  },
  {
   "cell_type": "markdown",
   "metadata": {},
   "source": [
    "#### Inspect solutions"
   ]
  },
  {
   "cell_type": "code",
   "execution_count": null,
   "metadata": {},
   "outputs": [],
   "source": [
    "color_assignment_even, node_to_col_even = extractSolution(G_even, m_even)\n",
    "colors_even = colors_list_from_assignment_dict(G_even, color_assignment_even)"
   ]
  },
  {
   "cell_type": "code",
   "execution_count": null,
   "metadata": {},
   "outputs": [],
   "source": [
    "#visualize solution\n",
    "nx.draw_circular(G_even.G, node_color=colors_even)"
   ]
  },
  {
   "cell_type": "code",
   "execution_count": null,
   "metadata": {},
   "outputs": [],
   "source": [
    "color_assignment_odd, node_to_col_odd = extractSolution(G_odd, m_odd)\n",
    "colors_odd = colors_list_from_assignment_dict(G_odd, color_assignment_odd)"
   ]
  },
  {
   "cell_type": "code",
   "execution_count": null,
   "metadata": {},
   "outputs": [],
   "source": [
    "nx.draw_circular(G_odd.G, node_color=colors_odd)"
   ]
  },
  {
   "cell_type": "code",
   "execution_count": null,
   "metadata": {},
   "outputs": [],
   "source": [
    "col_to_node, node_to_col = greedyColoring(G_even)"
   ]
  },
  {
   "cell_type": "code",
   "execution_count": null,
   "metadata": {},
   "outputs": [],
   "source": [
    "colors = colors_list_from_assignment_dict(G_even, col_to_node)"
   ]
  },
  {
   "cell_type": "code",
   "execution_count": null,
   "metadata": {},
   "outputs": [],
   "source": [
    "nx.draw_circular(G_even.G, node_color=colors)"
   ]
  }
 ],
 "metadata": {
  "finalized": {
   "timestamp": 1612963650237,
   "trusted": true
  },
  "kernelspec": {
   "display_name": "Python 3",
   "language": "python",
   "name": "python3"
  },
  "language_info": {
   "codemirror_mode": {
    "name": "ipython",
    "version": 3
   },
   "file_extension": ".py",
   "mimetype": "text/x-python",
   "name": "python",
   "nbconvert_exporter": "python",
   "pygments_lexer": "ipython3",
   "version": "3.6.12"
  },
  "toc": {
   "base_numbering": 1,
   "nav_menu": {},
   "number_sections": true,
   "sideBar": true,
   "skip_h1_title": false,
   "title_cell": "Table of Contents",
   "title_sidebar": "Contents",
   "toc_cell": false,
   "toc_position": {},
   "toc_section_display": true,
   "toc_window_display": false
  }
 },
 "nbformat": 4,
 "nbformat_minor": 4
}
