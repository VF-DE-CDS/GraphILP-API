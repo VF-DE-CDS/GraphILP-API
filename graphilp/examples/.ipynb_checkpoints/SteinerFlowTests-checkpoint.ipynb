{
 "cells": [
  {
   "cell_type": "code",
   "execution_count": 1,
   "metadata": {},
   "outputs": [
    {
     "ename": "NameError",
     "evalue": "name 'G' is not defined",
     "output_type": "error",
     "traceback": [
      "\u001b[0;31m---------------------------------------------------------------------------\u001b[0m",
      "\u001b[0;31mNameError\u001b[0m                                 Traceback (most recent call last)",
      "\u001b[0;32m<ipython-input-1-31e867dac98e>\u001b[0m in \u001b[0;36m<module>\u001b[0;34m\u001b[0m\n\u001b[1;32m     13\u001b[0m     \u001b[0;31m#path = \"/mnt/data/projects/ILP/steiner/PUC/bip42u.stp\"\u001b[0m\u001b[0;34m\u001b[0m\u001b[0;34m\u001b[0m\u001b[0;34m\u001b[0m\u001b[0m\n\u001b[1;32m     14\u001b[0m     \u001b[0;31m#G, terminals = readFile.stp_to_networkx(path)\u001b[0m\u001b[0;34m\u001b[0m\u001b[0;34m\u001b[0m\u001b[0;34m\u001b[0m\u001b[0m\n\u001b[0;32m---> 15\u001b[0;31m     \u001b[0mprint\u001b[0m\u001b[0;34m(\u001b[0m\u001b[0mG\u001b[0m\u001b[0;34m.\u001b[0m\u001b[0medges\u001b[0m\u001b[0;34m(\u001b[0m\u001b[0;34m)\u001b[0m\u001b[0;34m)\u001b[0m\u001b[0;34m\u001b[0m\u001b[0;34m\u001b[0m\u001b[0m\n\u001b[0m\u001b[1;32m     16\u001b[0m     \u001b[0mnodesAmount\u001b[0m \u001b[0;34m=\u001b[0m \u001b[0;36m30\u001b[0m\u001b[0;34m\u001b[0m\u001b[0;34m\u001b[0m\u001b[0m\n\u001b[1;32m     17\u001b[0m     \u001b[0medgesAmount\u001b[0m \u001b[0;34m=\u001b[0m \u001b[0;36m50\u001b[0m\u001b[0;34m\u001b[0m\u001b[0;34m\u001b[0m\u001b[0m\n",
      "\u001b[0;31mNameError\u001b[0m: name 'G' is not defined"
     ]
    }
   ],
   "source": [
    "import sys, os\n",
    "sys.path.append(os.path.abspath('..'))\n",
    "from imports import ilpgraph, readFile\n",
    "from imports import networkx as imp_nx\n",
    "from network import Steiner_Flow as sflow\n",
    "import networkx as nx\n",
    "from gurobipy import *\n",
    "import xlsxwriter\n",
    "import random\n",
    "import matplotlib.pyplot as plt\n",
    "\n",
    "if __name__ == '__main__':\n",
    "    #path = \"/mnt/data/projects/ILP/steiner/PUC/bip42u.stp\"\n",
    "    #G, terminals = readFile.stp_to_networkx(path)\n",
    "\n",
    "    nodesAmount = 30\n",
    "    edgesAmount = 50\n",
    "    G = nx.gnm_random_graph(nodesAmount, edgesAmount)\n",
    "    terminalsAmount  = 5\n",
    "    terminals = random.sample(range(1, nodesAmount), terminalsAmount)\n",
    "    root = random.sample(range(1, nodesAmount), 1)\n",
    "    if root in terminals:\n",
    "        raise ValueError(\"Root is in Terminals. Please try again...\")\n",
    "    for edge in G.edges():\n",
    "        G[edge[0]][edge[1]]['Cost'] = 1\n",
    "    print(\"Root: \", root)\n",
    "    print(\"Terminals: \", terminals)\n",
    "    \n",
    "    \n",
    "    pos = nx.spring_layout(G)\n",
    "    nx.draw_networkx_nodes(G, pos, cmap=plt.get_cmap('jet'))\n",
    "    nx.draw_networkx_labels(G, pos)\n",
    "    nx.draw_networkx_edges(G, pos, arrows=True)\n",
    "    plt.show()\n",
    "    \n",
    "    #G.add_edges_from([\n",
    "    #                (1,2, {\"Cost\":1}),\n",
    "    #                (3,4, {\"Cost\":2}),\n",
    "    #                (2,3, {\"Cost\":4}),\n",
    "    #                (4,5, {\"Cost\":6}),\n",
    "    #                (5,6, {\"Cost\":1}),\n",
    "    #                (6,7, {\"Cost\":1})])\n",
    "    #G.add_nodes_from([1,2,3,4,5,6,7])\n",
    "    Graph = imp_nx.read(G)\n",
    "\n",
    "    model = sflow.createModel(Graph, terminals, 'Cost', root)"
   ]
  },
  {
   "cell_type": "code",
   "execution_count": null,
   "metadata": {},
   "outputs": [],
   "source": []
  },
  {
   "cell_type": "code",
   "execution_count": null,
   "metadata": {},
   "outputs": [],
   "source": []
  }
 ],
 "metadata": {
  "kernelspec": {
   "display_name": "Python 3.6",
   "language": "python",
   "name": "py3.6"
  },
  "language_info": {
   "codemirror_mode": {
    "name": "ipython",
    "version": 3
   },
   "file_extension": ".py",
   "mimetype": "text/x-python",
   "name": "python",
   "nbconvert_exporter": "python",
   "pygments_lexer": "ipython3",
   "version": "3.6.12"
  }
 },
 "nbformat": 4,
 "nbformat_minor": 4
}
