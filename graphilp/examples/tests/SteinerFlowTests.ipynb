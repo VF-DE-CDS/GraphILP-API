{
 "cells": [
  {
   "cell_type": "code",
   "execution_count": 4,
   "metadata": {},
   "outputs": [
    {
     "name": "stdout",
     "output_type": "stream",
     "text": [
      "Connected:  True\n",
      "Nodes:  1200\n",
      "Edges:  3982\n",
      "Root:  1001\n",
      "Terminals:  [1001, 1002, 1003, 1004, 1005, 1006, 1007, 1008, 1009, 1010, 1011, 1012, 1013, 1014, 1015, 1016, 1017, 1018, 1019, 1020, 1021, 1022, 1023, 1024, 1025, 1026, 1027, 1028, 1029, 1030, 1031, 1032, 1033, 1034, 1035, 1036, 1037, 1038, 1039, 1040, 1041, 1042, 1043, 1044, 1045, 1046, 1047, 1048, 1049, 1050, 1051, 1052, 1053, 1054, 1055, 1056, 1057, 1058, 1059, 1060, 1061, 1062, 1063, 1064, 1065, 1066, 1067, 1068, 1069, 1070, 1071, 1072, 1073, 1074, 1075, 1076, 1077, 1078, 1079, 1080, 1081, 1082, 1083, 1084, 1085, 1086, 1087, 1088, 1089, 1090, 1091, 1092, 1093, 1094, 1095, 1096, 1097, 1098, 1099, 1100, 1101, 1102, 1103, 1104, 1105, 1106, 1107, 1108, 1109, 1110, 1111, 1112, 1113, 1114, 1115, 1116, 1117, 1118, 1119, 1120, 1121, 1122, 1123, 1124, 1125, 1126, 1127, 1128, 1129, 1130, 1131, 1132, 1133, 1134, 1135, 1136, 1137, 1138, 1139, 1140, 1141, 1142, 1143, 1144, 1145, 1146, 1147, 1148, 1149, 1150, 1151, 1152, 1153, 1154, 1155, 1156, 1157, 1158, 1159, 1160, 1161, 1162, 1163, 1164, 1165, 1166, 1167, 1168, 1169, 1170, 1171, 1172, 1173, 1174, 1175, 1176, 1177, 1178, 1179, 1180, 1181, 1182, 1183, 1184, 1185, 1186, 1187, 1188, 1189, 1190, 1191, 1192, 1193, 1194, 1195, 1196, 1197, 1198, 1199, 1200]\n",
      "Using license file /opt/gurobi/gurobi.lic\n"
     ]
    },
    {
     "ename": "KeyError",
     "evalue": "'Weight'",
     "output_type": "error",
     "traceback": [
      "\u001b[0;31m---------------------------------------------------------------------------\u001b[0m",
      "\u001b[0;31mKeyError\u001b[0m                                  Traceback (most recent call last)",
      "\u001b[0;32m<ipython-input-4-fc033b288f0a>\u001b[0m in \u001b[0;36m<module>\u001b[0;34m\u001b[0m\n\u001b[1;32m     57\u001b[0m     \u001b[0mGraph\u001b[0m \u001b[0;34m=\u001b[0m \u001b[0mimp_nx\u001b[0m\u001b[0;34m.\u001b[0m\u001b[0mread\u001b[0m\u001b[0;34m(\u001b[0m\u001b[0mG\u001b[0m\u001b[0;34m)\u001b[0m\u001b[0;34m\u001b[0m\u001b[0;34m\u001b[0m\u001b[0m\n\u001b[1;32m     58\u001b[0m \u001b[0;34m\u001b[0m\u001b[0m\n\u001b[0;32m---> 59\u001b[0;31m     \u001b[0mmodel\u001b[0m \u001b[0;34m=\u001b[0m \u001b[0msflow\u001b[0m\u001b[0;34m.\u001b[0m\u001b[0mcreateModel\u001b[0m\u001b[0;34m(\u001b[0m\u001b[0mGraph\u001b[0m\u001b[0;34m,\u001b[0m \u001b[0mterminals\u001b[0m\u001b[0;34m,\u001b[0m \u001b[0;34m'weight'\u001b[0m\u001b[0;34m,\u001b[0m \u001b[0mroot\u001b[0m\u001b[0;34m)\u001b[0m\u001b[0;34m\u001b[0m\u001b[0;34m\u001b[0m\u001b[0m\n\u001b[0m\u001b[1;32m     60\u001b[0m     \u001b[0mmodel\u001b[0m\u001b[0;34m.\u001b[0m\u001b[0moptimize\u001b[0m\u001b[0;34m(\u001b[0m\u001b[0;34m)\u001b[0m\u001b[0;34m\u001b[0m\u001b[0;34m\u001b[0m\u001b[0m\n",
      "\u001b[0;32m~/GraphILP-API/graphilp/network/Steiner_Linear_with_Flow.py\u001b[0m in \u001b[0;36mcreateModel\u001b[0;34m(G, terminals, root, weight, cycleBasis, nodeColoring)\u001b[0m\n\u001b[1;32m     50\u001b[0m     \u001b[0mTerminals\u001b[0m \u001b[0;34m=\u001b[0m \u001b[0;36m0\u001b[0m\u001b[0;34m\u001b[0m\u001b[0;34m\u001b[0m\u001b[0m\n\u001b[1;32m     51\u001b[0m     \u001b[0;32mfor\u001b[0m \u001b[0mnode\u001b[0m \u001b[0;32min\u001b[0m \u001b[0mG\u001b[0m\u001b[0;34m.\u001b[0m\u001b[0mG\u001b[0m\u001b[0;34m.\u001b[0m\u001b[0mnodes\u001b[0m\u001b[0;34m(\u001b[0m\u001b[0;34m)\u001b[0m\u001b[0;34m:\u001b[0m\u001b[0;34m\u001b[0m\u001b[0;34m\u001b[0m\u001b[0m\n\u001b[0;32m---> 52\u001b[0;31m         \u001b[0mTerminals\u001b[0m \u001b[0;34m+=\u001b[0m \u001b[0mG\u001b[0m\u001b[0;34m.\u001b[0m\u001b[0mG\u001b[0m\u001b[0;34m.\u001b[0m\u001b[0mnodes\u001b[0m\u001b[0;34m[\u001b[0m\u001b[0mnode\u001b[0m\u001b[0;34m]\u001b[0m\u001b[0;34m[\u001b[0m\u001b[0;34m'Weight'\u001b[0m\u001b[0;34m]\u001b[0m\u001b[0;34m\u001b[0m\u001b[0;34m\u001b[0m\u001b[0m\n\u001b[0m\u001b[1;32m     53\u001b[0m     \u001b[0mn\u001b[0m \u001b[0;34m=\u001b[0m \u001b[0mG\u001b[0m\u001b[0;34m.\u001b[0m\u001b[0mG\u001b[0m\u001b[0;34m.\u001b[0m\u001b[0mnumber_of_nodes\u001b[0m\u001b[0;34m(\u001b[0m\u001b[0;34m)\u001b[0m\u001b[0;34m\u001b[0m\u001b[0;34m\u001b[0m\u001b[0m\n\u001b[1;32m     54\u001b[0m \u001b[0;34m\u001b[0m\u001b[0m\n",
      "\u001b[0;31mKeyError\u001b[0m: 'Weight'"
     ]
    }
   ],
   "source": [
    "import sys, os\n",
    "sys.path.append(os.path.abspath('..'))\n",
    "from graphilp.imports import ilpgraph, readFile\n",
    "from graphilp.imports import networkx as imp_nx\n",
    "#from network import Steiner_Flow as sflow\n",
    "from graphilp.network import Steiner_Linear_with_Flow as sflow\n",
    "#from network import Steiner_Flow_withLinear as sflow\n",
    "import networkx as nx\n",
    "from gurobipy import *\n",
    "import xlsxwriter\n",
    "import random\n",
    "import matplotlib.pyplot as plt\n",
    "\n",
    "if __name__ == '__main__':\n",
    "    #path = \"/mnt/data/projects/ILP/steiner/PUC/bip42u.stp\"\n",
    "    path = \"../Steiner_testInstances/bip42u.stp\"\n",
    "    #path = \"MVC_testInstances/i080-224.stp\"\n",
    "    G, terminals = readFile.stp_to_networkx(path)\n",
    "    # Change this to true in order to work with a random Graph\n",
    "    randomGraph = False\n",
    "    plotGraph = False\n",
    "\n",
    "    if (randomGraph):\n",
    "        nodesAmount = 30\n",
    "        edgesAmount = 50\n",
    "        G = nx.gnm_random_graph(nodesAmount, edgesAmount)\n",
    "        terminalsAmount  = 5\n",
    "        terminals = random.sample(range(1, nodesAmount), terminalsAmount)\n",
    "        root = random.sample(range(1, nodesAmount), 1)\n",
    "        if root in terminals:\n",
    "            raise ValueError(\"Root is in Terminals. Please try again...\")\n",
    "\n",
    "    for edge in G.edges():\n",
    "        G[edge[0]][edge[1]]['Cost'] = 1\n",
    "    root = 1001\n",
    "    print(\"Connected: \", nx.is_connected(G))\n",
    "    print(\"Nodes: \", len(G.nodes()))\n",
    "    print(\"Edges: \", len(G.edges()))\n",
    "    print(\"Root: \", root)\n",
    "    print(\"Terminals: \", terminals)\n",
    "    \n",
    "    if (plotGraph):\n",
    "        pos = nx.spring_layout(G)\n",
    "        nx.draw_networkx_nodes(G, pos, cmap=plt.get_cmap('jet'))\n",
    "        nx.draw_networkx_labels(G, pos)\n",
    "        nx.draw_networkx_edges(G, pos, arrows=True)\n",
    "        plt.show()\n",
    "    \n",
    "    #G.add_edges_from([\n",
    "    #                (1,2, {\"Cost\":1}),\n",
    "    #                (3,4, {\"Cost\":2}),\n",
    "    #                (2,3, {\"Cost\":4}),\n",
    "    #                (4,5, {\"Cost\":6}),\n",
    "    #                (5,6, {\"Cost\":1}),\n",
    "    #                (6,7, {\"Cost\":1})])\n",
    "    #G.add_nodes_from([1,2,3,4,5,6,7])\n",
    "    Graph = imp_nx.read(G)\n",
    "\n",
    "    model = sflow.createModel(Graph, terminals, 'weight', root)\n",
    "    model.optimize()"
   ]
  },
  {
   "cell_type": "code",
   "execution_count": null,
   "metadata": {},
   "outputs": [],
   "source": []
  }
 ],
 "metadata": {
  "kernelspec": {
   "display_name": "Python 3.6",
   "language": "python",
   "name": "py3.6"
  },
  "language_info": {
   "codemirror_mode": {
    "name": "ipython",
    "version": 3
   },
   "file_extension": ".py",
   "mimetype": "text/x-python",
   "name": "python",
   "nbconvert_exporter": "python",
   "pygments_lexer": "ipython3",
   "version": "3.6.12"
  }
 },
 "nbformat": 4,
 "nbformat_minor": 4
}
