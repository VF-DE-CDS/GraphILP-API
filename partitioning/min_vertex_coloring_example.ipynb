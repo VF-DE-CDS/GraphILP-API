{
 "cells": [
  {
   "cell_type": "markdown",
   "metadata": {},
   "source": [
    "### Minimum graph coloring/ Minimum chromatic number\n",
    "\n",
    "Problem definition: https://www8.cs.umu.se/kurser/TDBAfl/VT06/algorithms/COMPEND/COMPED11/NODE13.HTM#SECTION00021500000000000000\n",
    "\n",
    "Assignment based ILP-formulation (e.g. see here: https://arxiv.org/abs/1706.10191):\n",
    "Let a graph $G=(V,E)$ with vertex set $V$ and edge set $E$ be given.\n",
    "We model the decision via variables $x_{vi}\\in\\{0,1\\}$, that take value $1$ if vertex $v\\in V$ is assigned color $i$ and $0$ otherwise.\n",
    "\n",
    "Further, let $H$ be an upper bound for the chromatic number, i.e. $H\\le|V|$, but usually smaller as it could come from, e.g., the greedy coloring algorithm (https://en.wikipedia.org/wiki/Greedy_coloring). $w_{i}$ takes value $1$ if color $i=1,\\ldots H$ is used in the assignment and $0$ otherwise.\n",
    "\n",
    "\\begin{align}\n",
    "    &\\min \\sum_{1\\le i \\le H}w_{i} \\text{ (minimize the total number of colors used) }\\\\\n",
    "    &\\text{s.t.} \\\\\n",
    "    &\\sum_{i=1}^{H} x_{vi} = 1\\;\\forall v\\in V \\text{ (make sure every vertex gets exactly one color) } \\\\\n",
    "    &x_{ui}+x_{vi}\\le w_{i}\\;\\forall(u,v)\\in E, i=1,\\ldots,H\\text{ (make sure no two neighboring vertices get the same color) } \\\\\n",
    "    &x_{vi},w_{i}\\in\\{0,1\\}\\;\\forall v\\in V, i=1,\\ldots, H \\text{ (assigning a color or not is a binary decision) }\n",
    "\\end{align}\n"
   ]
  },
  {
   "cell_type": "code",
   "execution_count": 1,
   "metadata": {
    "ExecuteTime": {
     "end_time": "2020-04-24T14:07:40.652451Z",
     "start_time": "2020-04-24T14:07:40.126381Z"
    }
   },
   "outputs": [],
   "source": [
    "import gurobipy as gp\n",
    "import networkx as nx"
   ]
  },
  {
   "cell_type": "code",
   "execution_count": 2,
   "metadata": {
    "ExecuteTime": {
     "end_time": "2020-04-24T14:07:40.656499Z",
     "start_time": "2020-04-24T14:07:40.654026Z"
    }
   },
   "outputs": [],
   "source": [
    "from min_vertex_coloring import *"
   ]
  },
  {
   "cell_type": "code",
   "execution_count": 3,
   "metadata": {
    "ExecuteTime": {
     "end_time": "2020-04-24T14:07:40.666801Z",
     "start_time": "2020-04-24T14:07:40.658070Z"
    }
   },
   "outputs": [],
   "source": [
    "import sys\n",
    "import os\n",
    "\n",
    "sys.path.append(os.path.abspath('../../'))\n",
    "from graphilp.imports import networkx as imp_nx"
   ]
  },
  {
   "cell_type": "markdown",
   "metadata": {},
   "source": [
    "#### Create test graphs"
   ]
  },
  {
   "cell_type": "code",
   "execution_count": 4,
   "metadata": {
    "ExecuteTime": {
     "end_time": "2020-04-24T14:07:40.678136Z",
     "start_time": "2020-04-24T14:07:40.668343Z"
    }
   },
   "outputs": [],
   "source": [
    "#create cycle graphs as test cases. we know odd cycles have chromatic number 3 and even cycles have chromatic number 2\n",
    "G_odd_init = nx.cycle_graph(n=5)\n",
    "G_even_init = nx.cycle_graph(n=4)"
   ]
  },
  {
   "cell_type": "code",
   "execution_count": 5,
   "metadata": {
    "ExecuteTime": {
     "end_time": "2020-04-24T14:07:40.684469Z",
     "start_time": "2020-04-24T14:07:40.679995Z"
    }
   },
   "outputs": [],
   "source": [
    "#create ILPGraph objects\n",
    "G_odd = imp_nx.read(G_odd_init)\n",
    "G_even = imp_nx.read(G_even_init)"
   ]
  },
  {
   "cell_type": "code",
   "execution_count": 6,
   "metadata": {
    "ExecuteTime": {
     "end_time": "2020-04-24T14:07:40.717061Z",
     "start_time": "2020-04-24T14:07:40.686239Z"
    }
   },
   "outputs": [
    {
     "name": "stdout",
     "output_type": "stream",
     "text": [
      "Using license file /opt/gurobi/gurobi.lic\n"
     ]
    }
   ],
   "source": [
    "#create test models\n",
    "m_odd = createModel(G_odd)\n",
    "m_even = createModel(G_even)"
   ]
  },
  {
   "cell_type": "code",
   "execution_count": 7,
   "metadata": {
    "ExecuteTime": {
     "end_time": "2020-04-24T14:07:40.740019Z",
     "start_time": "2020-04-24T14:07:40.718286Z"
    }
   },
   "outputs": [
    {
     "name": "stdout",
     "output_type": "stream",
     "text": [
      "Gurobi Optimizer version 9.0.0 build v9.0.0rc2 (linux64)\n",
      "Optimize a model with 22 rows, 18 columns and 64 nonzeros\n",
      "Model fingerprint: 0xcf0e25fc\n",
      "Variable types: 0 continuous, 18 integer (18 binary)\n",
      "Coefficient statistics:\n",
      "  Matrix range     [1e+00, 1e+00]\n",
      "  Objective range  [1e+00, 1e+00]\n",
      "  Bounds range     [1e+00, 1e+00]\n",
      "  RHS range        [1e+00, 1e+00]\n",
      "Found heuristic solution: objective 3.0000000\n",
      "Presolve removed 2 rows and 2 columns\n",
      "Presolve time: 0.00s\n",
      "Presolved: 20 rows, 16 columns, 50 nonzeros\n",
      "Variable types: 0 continuous, 16 integer (16 binary)\n",
      "\n",
      "Root relaxation: objective 2.000000e+00, 10 iterations, 0.00 seconds\n",
      "\n",
      "    Nodes    |    Current Node    |     Objective Bounds      |     Work\n",
      " Expl Unexpl |  Obj  Depth IntInf | Incumbent    BestBd   Gap | It/Node Time\n",
      "\n",
      "     0     0 infeasible    0         3.00000    3.00000  0.00%     -    0s\n",
      "\n",
      "Explored 0 nodes (14 simplex iterations) in 0.01 seconds\n",
      "Thread count was 12 (of 12 available processors)\n",
      "\n",
      "Solution count 1: 3 \n",
      "\n",
      "Optimal solution found (tolerance 1.00e-04)\n",
      "Best objective 3.000000000000e+00, best bound 3.000000000000e+00, gap 0.0000%\n"
     ]
    }
   ],
   "source": [
    "#run optimization\n",
    "m_odd.optimize()"
   ]
  },
  {
   "cell_type": "code",
   "execution_count": 8,
   "metadata": {
    "ExecuteTime": {
     "end_time": "2020-04-24T14:07:40.753038Z",
     "start_time": "2020-04-24T14:07:40.742385Z"
    }
   },
   "outputs": [
    {
     "name": "stdout",
     "output_type": "stream",
     "text": [
      "Gurobi Optimizer version 9.0.0 build v9.0.0rc2 (linux64)\n",
      "Optimize a model with 13 rows, 10 columns and 34 nonzeros\n",
      "Model fingerprint: 0x5bb5c96c\n",
      "Variable types: 0 continuous, 10 integer (10 binary)\n",
      "Coefficient statistics:\n",
      "  Matrix range     [1e+00, 1e+00]\n",
      "  Objective range  [1e+00, 1e+00]\n",
      "  Bounds range     [1e+00, 1e+00]\n",
      "  RHS range        [1e+00, 1e+00]\n",
      "Presolve removed 13 rows and 10 columns\n",
      "Presolve time: 0.00s\n",
      "Presolve: All rows and columns removed\n",
      "\n",
      "Explored 0 nodes (0 simplex iterations) in 0.00 seconds\n",
      "Thread count was 1 (of 12 available processors)\n",
      "\n",
      "Solution count 1: 2 \n",
      "\n",
      "Optimal solution found (tolerance 1.00e-04)\n",
      "Best objective 2.000000000000e+00, best bound 2.000000000000e+00, gap 0.0000%\n"
     ]
    }
   ],
   "source": [
    "m_even.optimize()"
   ]
  },
  {
   "cell_type": "markdown",
   "metadata": {},
   "source": [
    "#### Inspect solutions"
   ]
  },
  {
   "cell_type": "code",
   "execution_count": 9,
   "metadata": {
    "ExecuteTime": {
     "end_time": "2020-04-24T14:07:40.757380Z",
     "start_time": "2020-04-24T14:07:40.754725Z"
    }
   },
   "outputs": [],
   "source": [
    "color_assignment_even, node_to_col_even = extractSolution(G_even, m_even)\n",
    "colors_even = colors_list_from_assignment_dict(G_even, color_assignment_even)"
   ]
  },
  {
   "cell_type": "code",
   "execution_count": 10,
   "metadata": {
    "ExecuteTime": {
     "end_time": "2020-04-24T14:07:40.914953Z",
     "start_time": "2020-04-24T14:07:40.758479Z"
    }
   },
   "outputs": [
    {
     "name": "stderr",
     "output_type": "stream",
     "text": [
      "/usr/local/lib/python3.5/dist-packages/networkx/drawing/nx_pylab.py:611: MatplotlibDeprecationWarning: isinstance(..., numbers.Number)\n",
      "  if cb.is_numlike(alpha):\n"
     ]
    }
   ],
   "source": [
    "#visualize solution\n",
    "nx.draw_circular(G_even.G, node_color=colors_even)"
   ]
  },
  {
   "cell_type": "code",
   "execution_count": 11,
   "metadata": {
    "ExecuteTime": {
     "end_time": "2020-04-24T14:07:40.919548Z",
     "start_time": "2020-04-24T14:07:40.916792Z"
    }
   },
   "outputs": [],
   "source": [
    "color_assignment_odd, node_to_col_odd = extractSolution(G_odd, m_odd)\n",
    "colors_odd = colors_list_from_assignment_dict(G_odd, color_assignment_odd)"
   ]
  },
  {
   "cell_type": "code",
   "execution_count": 12,
   "metadata": {
    "ExecuteTime": {
     "end_time": "2020-04-24T14:07:41.021944Z",
     "start_time": "2020-04-24T14:07:40.920887Z"
    }
   },
   "outputs": [
    {
     "data": {
      "image/png": "[encoded data removed]",
      "text/plain": [
       "<Figure size 432x288 with 1 Axes>"
      ]
     },
     "metadata": {},
     "output_type": "display_data"
    }
   ],
   "source": [
    "nx.draw_circular(G_odd.G, node_color=colors_odd)"
   ]
  },
  {
   "cell_type": "code",
   "execution_count": 13,
   "metadata": {
    "ExecuteTime": {
     "end_time": "2020-04-24T14:07:41.025382Z",
     "start_time": "2020-04-24T14:07:41.023212Z"
    }
   },
   "outputs": [],
   "source": [
    "col_to_node, node_to_col = greedyColoring(G_even)"
   ]
  },
  {
   "cell_type": "code",
   "execution_count": 14,
   "metadata": {
    "ExecuteTime": {
     "end_time": "2020-04-24T14:07:41.034522Z",
     "start_time": "2020-04-24T14:07:41.026568Z"
    }
   },
   "outputs": [],
   "source": [
    "colors = colors_list_from_assignment_dict(G_even, col_to_node)"
   ]
  },
  {
   "cell_type": "code",
   "execution_count": 15,
   "metadata": {
    "ExecuteTime": {
     "end_time": "2020-04-24T14:07:41.123438Z",
     "start_time": "2020-04-24T14:07:41.035714Z"
    }
   },
   "outputs": [
    {
     "data": {
      "image/png": "[encoded data removed]",
      "text/plain": [
       "<Figure size 432x288 with 1 Axes>"
      ]
     },
     "metadata": {},
     "output_type": "display_data"
    }
   ],
   "source": [
    "nx.draw_circular(G_even.G, node_color=colors)"
   ]
  }
 ],
 "metadata": {
  "kernelspec": {
   "display_name": "Python 3",
   "language": "python",
   "name": "python3"
  },
  "language_info": {
   "codemirror_mode": {
    "name": "ipython",
    "version": 3
   },
   "file_extension": ".py",
   "mimetype": "text/x-python",
   "name": "python",
   "nbconvert_exporter": "python",
   "pygments_lexer": "ipython3",
   "version": "3.5.2"
  }
 },
 "nbformat": 4,
 "nbformat_minor": 4
}
