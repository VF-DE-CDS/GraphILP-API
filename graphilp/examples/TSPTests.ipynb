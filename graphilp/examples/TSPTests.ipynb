{
 "cells": [
  {
   "source": [
    "# Testing the normal label formulation and the DL Enhancement / Lifted Formulation from https://link.springer.com/content/pdf/10.1007/s13676-012-0010-0.pdf"
   ],
   "cell_type": "markdown",
   "metadata": {}
  },
  {
   "cell_type": "code",
   "execution_count": 1,
   "metadata": {},
   "outputs": [
    {
     "output_type": "stream",
     "name": "stdout",
     "text": [
      "\n",
      "--------------------------------------------\n",
      "Warning: your license will expire in 14 days\n",
      "--------------------------------------------\n",
      "\n",
      "Academic license - for non-commercial use only - expires 2021-03-23\n",
      "Using license file C:\\Program Files\\Gurobi\\gurobi.lic\n",
      "Changed value of parameter MIPGap to 0.05\n",
      "   Prev: 0.0001  Min: 0.0  Max: inf  Default: 0.0001\n",
      "Changed value of parameter TimeLimit to 1500.0\n",
      "   Prev: inf  Min: 0.0  Max: inf  Default: inf\n",
      "Gurobi Optimizer version 9.1.1 build v9.1.1rc0 (win64)\n",
      "Thread count: 4 physical cores, 4 logical processors, using up to 4 threads\n",
      "Optimize a model with 22801 rows, 22650 columns and 178061 nonzeros\n",
      "Model fingerprint: 0xd22872de\n",
      "Variable types: 0 continuous, 22650 integer (22500 binary)\n",
      "Coefficient statistics:\n",
      "  Matrix range     [1e+00, 3e+02]\n",
      "  Objective range  [8e+00, 4e+03]\n",
      "  Bounds range     [1e+00, 1e+02]\n",
      "  RHS range        [1e+00, 1e+02]\n"
     ]
    },
    {
     "output_type": "error",
     "ename": "KeyboardInterrupt",
     "evalue": "",
     "traceback": [
      "\u001b[1;31m---------------------------------------------------------------------------\u001b[0m",
      "\u001b[1;31mKeyboardInterrupt\u001b[0m                         Traceback (most recent call last)",
      "\u001b[1;32m~\\AppData\\Roaming\\Python\\Python38\\site-packages\\ipykernel\\iostream.py\u001b[0m in \u001b[0;36mwrite\u001b[1;34m(self, string)\u001b[0m\n\u001b[0;32m    382\u001b[0m                 parent=self.parent_header, ident=self.topic)\n\u001b[0;32m    383\u001b[0m \u001b[1;33m\u001b[0m\u001b[0m\n\u001b[1;32m--> 384\u001b[1;33m     \u001b[1;32mdef\u001b[0m \u001b[0mwrite\u001b[0m\u001b[1;33m(\u001b[0m\u001b[0mself\u001b[0m\u001b[1;33m,\u001b[0m \u001b[0mstring\u001b[0m\u001b[1;33m)\u001b[0m\u001b[1;33m:\u001b[0m\u001b[1;33m\u001b[0m\u001b[1;33m\u001b[0m\u001b[0m\n\u001b[0m\u001b[0;32m    385\u001b[0m         \u001b[1;32mif\u001b[0m \u001b[0mself\u001b[0m\u001b[1;33m.\u001b[0m\u001b[0mecho\u001b[0m \u001b[1;32mis\u001b[0m \u001b[1;32mnot\u001b[0m \u001b[1;32mNone\u001b[0m\u001b[1;33m:\u001b[0m\u001b[1;33m\u001b[0m\u001b[1;33m\u001b[0m\u001b[0m\n\u001b[0;32m    386\u001b[0m             \u001b[1;32mtry\u001b[0m\u001b[1;33m:\u001b[0m\u001b[1;33m\u001b[0m\u001b[1;33m\u001b[0m\u001b[0m\n",
      "\u001b[1;31mKeyboardInterrupt\u001b[0m: "
     ]
    }
   ],
   "source": [
    "import sys, os\n",
    "sys.path.append(os.path.abspath('..'))\n",
    "from imports import ilpgraph, readFile\n",
    "import tsplib95\n",
    "from imports import networkx as imp_nx\n",
    "from network import min_tsp, gen_path_atsp, atsp_DT_formulation\n",
    "import networkx as nx\n",
    "from gurobipy import *\n",
    "import xlsxwriter\n",
    "import random\n",
    "import matplotlib.pyplot as plt\n",
    "\n",
    "\n",
    "\n",
    "def __write_solution(solution:list):\n",
    "    print(\"writing solutions...\")\n",
    "    workbook = xlsxwriter.Workbook('BenchmarksTSP.xlsx')\n",
    "    worksheet = workbook.add_worksheet()\n",
    "    bold = workbook.add_format({'bold':True})\n",
    "    solutionRows = len(solution)\n",
    "    solutionColumns = len(solution[0])\n",
    "    \n",
    "    worksheet.write('A1', 'Instance', bold)\n",
    "    worksheet.write('B1', 'Edges', bold)\n",
    "    worksheet.write('C1', 'Nodes', bold)\n",
    "    worksheet.write('E1', 'Runtime', bold)\n",
    "    worksheet.write('F1', 'Objective Value', bold)\n",
    "    worksheet.write('G1', 'Constraints', bold)\n",
    "    worksheet.write('H1', 'MIP Gap', bold)\n",
    "    \n",
    "    for i in range(solutionRows):\n",
    "        for j in range(solutionColumns):\n",
    "            worksheet.write(i + 1, j, solution[i][j])\n",
    "    \n",
    "        \n",
    "def runBenchmark(paths:list):\n",
    "    solutions = []\n",
    "    i = 0\n",
    "    \n",
    "    for path in paths:\n",
    "        tsp = tsplib95.load(path)\n",
    "        \n",
    "        G = tsp.get_graph()\n",
    "        G = imp_nx.read(G)\n",
    "        #m = gen_path_atsp.createGenModel(G,'min','metric')\n",
    "        m = atsp_DT_formulation.createGenModel(G, \"min\", \"metric\")\n",
    "        m.params.MIPGap = 0.05\n",
    "        m.params.TimeLimit = 1500\n",
    "       \n",
    "\n",
    "        m.optimize()\n",
    "\n",
    "        solutions.append((i, len(G.G.edges()), len(G.G.nodes()), m.runTime, m.objVal, m.numConstrs, m.MIPGap))\n",
    "        i += 1\n",
    "    print(solutions)\n",
    "    __write_solution(solutions)         \n",
    "\n",
    "if __name__ == '__main__':\n",
    "    \n",
    "\n",
    "    paths = [\"TSPTestInstances/kroB150.tsp\",\n",
    "             \"TSPTestInstances/bayg29.tsp\",\n",
    "             \"TSPTestInstances/bier127.tsp\",\n",
    "             ]\n",
    "    \n",
    "    runBenchmark(paths)"
   ]
  },
  {
   "source": [
    "# Heuristic implementation. Using Nearest Neighbour to create a new Tour and 2 Opt to improve the tour"
   ],
   "cell_type": "markdown",
   "metadata": {}
  },
  {
   "source": [
    "import sys, os\n",
    "sys.path.append(os.path.abspath('..'))\n",
    "from imports import ilpgraph, readFile\n",
    "from imports import networkx as imp_nx\n",
    "from network import tsp_heuristics as tsph\n",
    "import networkx as nx\n",
    "from gurobipy import *\n",
    "import xlsxwriter\n",
    "import random\n",
    "import matplotlib.pyplot as plt\n",
    "\n",
    "\n",
    "nbr_cities = 150\n",
    "\n",
    "path = r\"TSPTestInstances/kroB150.xml\"\n",
    "distance = readFile.read_tsplib(path)\n",
    "for i in range(nbr_cities):\n",
    "    distance[i][i] = 10000 # Changing the diagonal to \"infinity\"\n",
    "        \n",
    "tour, length = tsph.nearNeighHeur(distance, nbr_cities)\n",
    "tour, length = tsph.twoOptImprov(distance, tour, length, nbr_cities)\n",
    "print(tour)\n",
    "print(length)\n",
    "\n"
   ],
   "cell_type": "code",
   "metadata": {},
   "execution_count": 2,
   "outputs": [
    {
     "output_type": "stream",
     "name": "stdout",
     "text": [
      "[0, 52, 136, 6, 81, 8, 77, 25, 60, 23, 116, 31, 131, 141, 124, 45, 11, 39, 57, 128, 101, 22, 29, 67, 34, 1, 103, 106, 129, 64, 146, 79, 76, 114, 139, 59, 115, 3, 13, 47, 86, 95, 149, 51, 10, 83, 127, 102, 65, 43, 62, 50, 126, 145, 134, 15, 119, 36, 28, 17, 48, 92, 142, 104, 18, 140, 98, 91, 9, 135, 143, 96, 80, 44, 32, 99, 35, 56, 73, 68, 117, 72, 2, 58, 40, 88, 121, 20, 138, 130, 75, 120, 110, 69, 90, 122, 93, 94, 49, 132, 85, 42, 4, 118, 55, 100, 125, 113, 107, 112, 137, 61, 82, 71, 123, 70, 37, 38, 27, 87, 147, 97, 108, 144, 33, 89, 24, 16, 105, 7, 111, 21, 74, 133, 53, 148, 5, 46, 30, 66, 41, 54, 19, 63, 109, 78, 12, 14, 26, 84, 0]\n26244.22478014847\n"
     ]
    }
   ]
  }
 ],
 "metadata": {
  "kernelspec": {
   "name": "python3",
   "display_name": "Python 3.8.6 64-bit",
   "metadata": {
    "interpreter": {
     "hash": "eaa2ab7a62c0917f87f70bcc1c7d6454437090f2090a811744461a161579b7b3"
    }
   }
  },
  "language_info": {
   "codemirror_mode": {
    "name": "ipython",
    "version": 3
   },
   "file_extension": ".py",
   "mimetype": "text/x-python",
   "name": "python",
   "nbconvert_exporter": "python",
   "pygments_lexer": "ipython3",
   "version": "3.8.6-final"
  }
 },
 "nbformat": 4,
 "nbformat_minor": 4
}