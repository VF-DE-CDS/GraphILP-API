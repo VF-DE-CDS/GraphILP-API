{
 "cells": [
  {
   "cell_type": "markdown",
   "metadata": {},
   "source": [
    "# Dominating queens\n",
    "\n",
    "As an example for the minimum dominating set problem, we find how many queens are needed and how to place them in order to keep all squares of an $n\\times n$ chessboard in check."
   ]
  },
  {
   "cell_type": "code",
   "execution_count": null,
   "metadata": {},
   "outputs": [],
   "source": [
    "import networkx as nx\n",
    "\n",
    "from itertools import product\n",
    "\n",
    "# GraphILP API: import networkx graphs and use minimum dominating set\n",
    "from graphilp.imports import networkx as nximp\n",
    "from graphilp.covering import min_dom_set"
   ]
  },
  {
   "cell_type": "code",
   "execution_count": null,
   "metadata": {},
   "outputs": [],
   "source": [
    "%matplotlib inline"
   ]
  },
  {
   "cell_type": "code",
   "execution_count": null,
   "metadata": {},
   "outputs": [],
   "source": [
    "from matplotlib import pyplot as plt\n",
    "\n",
    "# access to colour maps\n",
    "from matplotlib import cm\n",
    "\n",
    "# use patches to draw squares of the chessboard\n",
    "import matplotlib.patches as patches"
   ]
  },
  {
   "cell_type": "markdown",
   "metadata": {},
   "source": [
    "## Create the chessboard graph\n",
    "We will create a graph with one vertex per square of the chessboard. A pair of squares will be connected by an edge if a queen in one of the squares checks the other one (this is symmetric)."
   ]
  },
  {
   "cell_type": "code",
   "execution_count": null,
   "metadata": {},
   "outputs": [],
   "source": [
    "# choose the size of the chessboard\n",
    "n = 8"
   ]
  },
  {
   "cell_type": "code",
   "execution_count": null,
   "metadata": {},
   "outputs": [],
   "source": [
    "G = nx.Graph()"
   ]
  },
  {
   "cell_type": "code",
   "execution_count": null,
   "metadata": {},
   "outputs": [],
   "source": [
    "# n by n squares\n",
    "G.add_nodes_from(product(range(n), range(n)))"
   ]
  },
  {
   "cell_type": "code",
   "execution_count": null,
   "metadata": {},
   "outputs": [],
   "source": [
    "# add the edges\n",
    "\n",
    "for node in G.nodes():\n",
    "    \n",
    "    # check all squares in the same row\n",
    "    edges = [(node, (node[0], i)) for i in range(n) if i != node[0]]\n",
    "    \n",
    "    # check all squares in the same column\n",
    "    edges += [(node, (i, node[1])) for i in range(n) if i != node[1]]\n",
    "    \n",
    "    # check all squares in the same diagonal\n",
    "    edges += [(node, (node[0]+i, node[1]+i)) for i in range(-max(node), max(n-1-node[0], n-1-node[1]))\n",
    "              if (node[0]+i, node[1]+i) in G.nodes()]\n",
    "    \n",
    "    # check all squares in the same anti-diagonal\n",
    "    edges += [(node, (node[0]+i, node[1]-i)) for i in range(-max(node), max(node))\n",
    "              if ((node[0]+i, node[1]-i) in G.nodes()) and ((node[0]+i, node[1]-i) != node)]\n",
    "    \n",
    "    G.add_edges_from(edges)"
   ]
  },
  {
   "cell_type": "markdown",
   "metadata": {},
   "source": [
    "## Set up and solve optimisation problem"
   ]
  },
  {
   "cell_type": "markdown",
   "metadata": {},
   "source": [
    "Set up the minimum dominating set problem using GraphILP API:"
   ]
  },
  {
   "cell_type": "code",
   "execution_count": null,
   "metadata": {},
   "outputs": [],
   "source": [
    "optG = nximp.read(G)"
   ]
  },
  {
   "cell_type": "code",
   "execution_count": null,
   "metadata": {},
   "outputs": [],
   "source": [
    "m = min_dom_set.createModel(optG)"
   ]
  },
  {
   "cell_type": "markdown",
   "metadata": {},
   "source": [
    "Find a minimum dominating set in the chessboard graph:"
   ]
  },
  {
   "cell_type": "code",
   "execution_count": null,
   "metadata": {},
   "outputs": [],
   "source": [
    "m.optimize()"
   ]
  },
  {
   "cell_type": "code",
   "execution_count": null,
   "metadata": {},
   "outputs": [],
   "source": [
    "queens = min_dom_set.extractSolution(optG, m)"
   ]
  },
  {
   "cell_type": "markdown",
   "metadata": {},
   "source": [
    "## Plot the result"
   ]
  },
  {
   "cell_type": "markdown",
   "metadata": {},
   "source": [
    "Find out which square is checked by which queens"
   ]
  },
  {
   "cell_type": "code",
   "execution_count": null,
   "metadata": {},
   "outputs": [],
   "source": [
    "covered = {}\n",
    "\n",
    "for q in queens:\n",
    "    for e in G.edges(q):\n",
    "        if e[1] in covered:\n",
    "            covered[e[1]].append(q)\n",
    "        else:\n",
    "            covered[e[1]] = [q]"
   ]
  },
  {
   "cell_type": "markdown",
   "metadata": {},
   "source": [
    "Assign colours to the queens"
   ]
  },
  {
   "cell_type": "code",
   "execution_count": null,
   "metadata": {},
   "outputs": [],
   "source": [
    "queen_colors = {}\n",
    "c = 0\n",
    "for q in queens:\n",
    "    queen_colors[q] = cm.get_cmap('Set1')(c)\n",
    "    c += 1"
   ]
  },
  {
   "cell_type": "markdown",
   "metadata": {},
   "source": [
    "Plot the chessboard with the queens and show which square is checked by which queen"
   ]
  },
  {
   "cell_type": "code",
   "execution_count": null,
   "metadata": {},
   "outputs": [],
   "source": [
    "fig = plt.figure(figsize=(10,10))\n",
    "ax = plt.subplot(111, aspect='equal')\n",
    "\n",
    "for node in G.nodes():\n",
    "    sq = patches.Rectangle(node, 1, 1, fill=True, color = 'k' if sum(node)%2==0 else 'w')\n",
    "    ax.add_patch(sq)\n",
    "    \n",
    "for c, clist in covered.items():\n",
    "    if c not in queens:\n",
    "        sq = patches.Rectangle((3+n+c[0]+0.2, c[1]+0.2), 0.6, 0.6, fill=True, color = queen_colors[clist[0]])\n",
    "        ax.add_patch(sq)\n",
    "\n",
    "for q in queens:\n",
    "    plt.plot(q[0]+0.5, q[1]+0.5, 'o', color=queen_colors[q])\n",
    "    plt.plot(3+n+q[0]+0.5, q[1]+0.5, 'o', color=queen_colors[q])\n",
    "    \n",
    "ax.set_axis_off()\n",
    "ax.relim()\n",
    "ax.autoscale_view()    "
   ]
  }
 ],
 "metadata": {
  "finalized": {
   "timestamp": 1616599267409,
   "trusted": true
  },
  "kernelspec": {
   "display_name": "Python 3.6",
   "language": "python",
   "name": "py3.6"
  },
  "language_info": {
   "codemirror_mode": {
    "name": "ipython",
    "version": 3
   },
   "file_extension": ".py",
   "mimetype": "text/x-python",
   "name": "python",
   "nbconvert_exporter": "python",
   "pygments_lexer": "ipython3",
   "version": "3.6.12"
  },
  "toc": {
   "base_numbering": 1,
   "nav_menu": {},
   "number_sections": true,
   "sideBar": true,
   "skip_h1_title": false,
   "title_cell": "Table of Contents",
   "title_sidebar": "Contents",
   "toc_cell": false,
   "toc_position": {},
   "toc_section_display": true,
   "toc_window_display": false
  }
 },
 "nbformat": 4,
 "nbformat_minor": 4
}
