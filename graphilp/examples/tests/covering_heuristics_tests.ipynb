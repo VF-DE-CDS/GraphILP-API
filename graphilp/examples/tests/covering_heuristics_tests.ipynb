{
 "cells": [
  {
   "cell_type": "code",
   "execution_count": 1,
   "metadata": {},
   "outputs": [
    {
     "name": "stdout",
     "output_type": "stream",
     "text": [
      "[0, 1, 2, 3, 4, 5, 6, 7, 8, 9, 10, 11, 12, 13, 14, 15, 16, 17, 18, 19, 20, 21, 22, 23, 24, 25, 26, 27, 28, 29, 30, 31, 32, 33, 34, 35, 44, 36, 37, 38, 39, 40, 41, 42, 43, 45, 46, 47, 48, 49, 50, 51, 52, 53, 54, 55, 56, 57, 58, 59, 60, 61, 62, 63, 64, 65, 66, 84, 67, 68, 69, 85, 86, 87, 70, 71, 88, 89, 72, 73, 74, 90, 91, 92, 75, 76, 93, 94, 95, 96, 97, 77, 78, 98, 99, 100, 101, 102, 103, 122, 104, 79, 80, 81, 82, 123, 124, 125]\n",
      "108\n"
     ]
    }
   ],
   "source": [
    "import sys, os\n",
    "sys.path.append(os.path.abspath('..'))\n",
    "sys.path.append(os.path.abspath('../..'))\n",
    "import numpy as np\n",
    "import scipy.sparse as sp\n",
    "from imports import ilpsetsystem as ilpss\n",
    "from imports import readFile\n",
    "from covering.heuristics import setCover\n",
    "\n",
    "path = r\"../setcoverTestInstances/scpd1.txt\"\n",
    "cover_matrix, sets = readFile.read_set_cover(path)\n",
    "numNodes = 400\n",
    "\n",
    "cover = setCover.getHeurSol(cover_matrix, sets, numNodes)\n",
    "print(cover)\n",
    "print(len(cover))"
   ]
  },
  {
   "cell_type": "code",
   "execution_count": 1,
   "metadata": {},
   "outputs": [
    {
     "ename": "NameError",
     "evalue": "name 'containedNodes' is not defined",
     "output_type": "error",
     "traceback": [
      "\u001b[0;31m---------------------------------------------------------------------------\u001b[0m",
      "\u001b[0;31mNameError\u001b[0m                                 Traceback (most recent call last)",
      "\u001b[0;32m<ipython-input-1-9fb2e2598f9d>\u001b[0m in \u001b[0;36m<module>\u001b[0;34m\u001b[0m\n\u001b[1;32m     13\u001b[0m \u001b[0mk\u001b[0m \u001b[0;34m=\u001b[0m \u001b[0;36m40\u001b[0m\u001b[0;34m\u001b[0m\u001b[0;34m\u001b[0m\u001b[0m\n\u001b[1;32m     14\u001b[0m \u001b[0;34m\u001b[0m\u001b[0m\n\u001b[0;32m---> 15\u001b[0;31m \u001b[0mcover\u001b[0m\u001b[0;34m,\u001b[0m \u001b[0mchosenNodes\u001b[0m \u001b[0;34m=\u001b[0m \u001b[0mkCover\u001b[0m\u001b[0;34m.\u001b[0m\u001b[0mgetHeurSol\u001b[0m\u001b[0;34m(\u001b[0m\u001b[0mcover_matrix\u001b[0m\u001b[0;34m,\u001b[0m \u001b[0mk\u001b[0m\u001b[0;34m,\u001b[0m \u001b[0msets\u001b[0m\u001b[0;34m,\u001b[0m \u001b[0mnumNodes\u001b[0m\u001b[0;34m)\u001b[0m\u001b[0;34m\u001b[0m\u001b[0;34m\u001b[0m\u001b[0m\n\u001b[0m\u001b[1;32m     16\u001b[0m \u001b[0mprint\u001b[0m\u001b[0;34m(\u001b[0m\u001b[0mcover\u001b[0m\u001b[0;34m)\u001b[0m\u001b[0;34m\u001b[0m\u001b[0;34m\u001b[0m\u001b[0m\n\u001b[1;32m     17\u001b[0m \u001b[0mprint\u001b[0m\u001b[0;34m(\u001b[0m\u001b[0mlen\u001b[0m\u001b[0;34m(\u001b[0m\u001b[0mcover\u001b[0m\u001b[0;34m)\u001b[0m\u001b[0;34m)\u001b[0m\u001b[0;34m\u001b[0m\u001b[0;34m\u001b[0m\u001b[0m\n",
      "\u001b[0;32m~/GraphILP/GraphILP-API/graphilp/covering/heuristics/kCover.py\u001b[0m in \u001b[0;36mgetHeurSol\u001b[0;34m(coverMatrix, k, sets, numNodes, weightUniverse)\u001b[0m\n\u001b[1;32m     43\u001b[0m     \u001b[0;31m# Iterate over the whole universe, i.e. the nodes in the model\u001b[0m\u001b[0;34m\u001b[0m\u001b[0;34m\u001b[0m\u001b[0;34m\u001b[0m\u001b[0m\n\u001b[1;32m     44\u001b[0m     \u001b[0;32mwhile\u001b[0m \u001b[0muniverse\u001b[0m \u001b[0;34m!=\u001b[0m \u001b[0mchosenNodes\u001b[0m\u001b[0;34m:\u001b[0m\u001b[0;34m\u001b[0m\u001b[0;34m\u001b[0m\u001b[0m\n\u001b[0;32m---> 45\u001b[0;31m         \u001b[0mchosenSets\u001b[0m\u001b[0;34m,\u001b[0m \u001b[0mchosenNodes\u001b[0m \u001b[0;34m=\u001b[0m \u001b[0mcovHelp\u001b[0m\u001b[0;34m.\u001b[0m\u001b[0mgetNextSet\u001b[0m\u001b[0;34m(\u001b[0m\u001b[0mchosenSets\u001b[0m\u001b[0;34m,\u001b[0m \u001b[0mchosenNodes\u001b[0m\u001b[0;34m,\u001b[0m \u001b[0msets\u001b[0m\u001b[0;34m,\u001b[0m \u001b[0mnumNodes\u001b[0m\u001b[0;34m,\u001b[0m \u001b[0msetSizes\u001b[0m\u001b[0;34m)\u001b[0m\u001b[0;34m\u001b[0m\u001b[0;34m\u001b[0m\u001b[0m\n\u001b[0m\u001b[1;32m     46\u001b[0m \u001b[0;34m\u001b[0m\u001b[0m\n\u001b[1;32m     47\u001b[0m         \u001b[0;31m# Break if the maximum amount of sets allowed to be chosen is reached.\u001b[0m\u001b[0;34m\u001b[0m\u001b[0;34m\u001b[0m\u001b[0;34m\u001b[0m\u001b[0m\n",
      "\u001b[0;32m~/GraphILP/GraphILP-API/graphilp/covering/heuristics/coverHelpers.py\u001b[0m in \u001b[0;36mgetNextSet\u001b[0;34m(chosenSets, chosenNodes, sets, numNodes, setSizes)\u001b[0m\n\u001b[1;32m     56\u001b[0m     \u001b[0mminSet\u001b[0m \u001b[0;34m=\u001b[0m \u001b[0mmin\u001b[0m\u001b[0;34m(\u001b[0m\u001b[0mcostEff\u001b[0m\u001b[0;34m.\u001b[0m\u001b[0mkeys\u001b[0m\u001b[0;34m(\u001b[0m\u001b[0;34m)\u001b[0m\u001b[0;34m,\u001b[0m \u001b[0mkey\u001b[0m\u001b[0;34m=\u001b[0m\u001b[0;34m(\u001b[0m\u001b[0;32mlambda\u001b[0m \u001b[0mk\u001b[0m\u001b[0;34m:\u001b[0m \u001b[0mcostEff\u001b[0m\u001b[0;34m[\u001b[0m\u001b[0mk\u001b[0m\u001b[0;34m]\u001b[0m\u001b[0;34m)\u001b[0m\u001b[0;34m)\u001b[0m\u001b[0;34m\u001b[0m\u001b[0;34m\u001b[0m\u001b[0m\n\u001b[1;32m     57\u001b[0m     \u001b[0;31m# All the nodes from the set with the set with the least efficiency are added to the solution.\u001b[0m\u001b[0;34m\u001b[0m\u001b[0;34m\u001b[0m\u001b[0;34m\u001b[0m\u001b[0m\n\u001b[0;32m---> 58\u001b[0;31m     \u001b[0mchosenNodes\u001b[0m \u001b[0;34m=\u001b[0m \u001b[0mcontainedNodes\u001b[0m\u001b[0;34m[\u001b[0m\u001b[0mminSet\u001b[0m\u001b[0;34m]\u001b[0m\u001b[0;34m.\u001b[0m\u001b[0munion\u001b[0m\u001b[0;34m(\u001b[0m\u001b[0mchosenNodes\u001b[0m\u001b[0;34m)\u001b[0m\u001b[0;34m\u001b[0m\u001b[0;34m\u001b[0m\u001b[0m\n\u001b[0m\u001b[1;32m     59\u001b[0m     \u001b[0;31m# The chosen set must not be chosen again\u001b[0m\u001b[0;34m\u001b[0m\u001b[0;34m\u001b[0m\u001b[0;34m\u001b[0m\u001b[0m\n\u001b[1;32m     60\u001b[0m     \u001b[0mchosenSets\u001b[0m\u001b[0;34m.\u001b[0m\u001b[0mappend\u001b[0m\u001b[0;34m(\u001b[0m\u001b[0mminSet\u001b[0m\u001b[0;34m)\u001b[0m\u001b[0;34m\u001b[0m\u001b[0;34m\u001b[0m\u001b[0m\n",
      "\u001b[0;31mNameError\u001b[0m: name 'containedNodes' is not defined"
     ]
    }
   ],
   "source": [
    "import sys, os\n",
    "sys.path.append(os.path.abspath('..'))\n",
    "sys.path.append(os.path.abspath('../..'))\n",
    "import numpy as np\n",
    "import scipy.sparse as sp\n",
    "from imports import ilpsetsystem as ilpss\n",
    "from imports import readFile\n",
    "from covering.heuristics import kCover\n",
    "\n",
    "path = r\"../setcoverTestInstances/scpd1.txt\"\n",
    "cover_matrix, sets = readFile.read_set_cover(path)\n",
    "numNodes = 400\n",
    "k = 40\n",
    "\n",
    "cover, chosenNodes = kCover.getHeurSol(cover_matrix, k, sets, numNodes)\n",
    "print(cover)\n",
    "print(len(cover))\n",
    "print(chosenNodes)\n",
    "print(len(chosenNodes))"
   ]
  },
  {
   "cell_type": "code",
   "execution_count": 1,
   "metadata": {},
   "outputs": [
    {
     "name": "stdout",
     "output_type": "stream",
     "text": [
      "[3015, 3538, 3882, 3956, 3998, 3286, 2929, 3797, 3361, 3285, 2846, 3038, 3609, 1243]\n",
      "14\n",
      "{0, 1, 2, 3, 6, 7, 11, 12, 14, 15, 16, 17, 18, 20, 24, 25, 26, 33, 34, 36, 37, 42, 47, 50, 52, 54, 63, 65, 66, 68, 69, 74, 75, 77, 79, 81, 83, 84, 85, 90, 91, 92, 93, 96, 97, 98, 99, 100, 105, 110, 112, 113, 115, 117, 119, 120, 127, 130, 131, 136, 138, 139, 140, 141, 146, 148, 149, 153, 154, 155, 156, 159, 161, 163, 165, 166, 169, 174, 175, 177, 178, 184, 187, 188, 190, 193, 195, 197, 201, 207, 216, 219, 221, 222, 229, 230, 232, 234, 237, 238, 240, 243, 246, 249, 250, 254, 256, 259, 260, 262, 263, 270, 271, 273, 276, 277, 279, 282, 288, 291, 292, 294, 296, 297, 304, 306, 307, 309, 312, 313, 315, 317, 320, 321, 324, 325, 329, 330, 332, 335, 338, 340, 342, 346, 347, 348, 350, 353, 354, 355, 358, 359, 360, 362, 363, 367, 369, 372, 374, 376, 381, 382, 384, 385, 387, 391, 396, 399}\n",
      "168\n"
     ]
    }
   ],
   "source": [
    "import sys, os\n",
    "sys.path.append(os.path.abspath('..'))\n",
    "sys.path.append(os.path.abspath('../..'))\n",
    "import numpy as np\n",
    "import scipy.sparse as sp\n",
    "from imports import ilpsetsystem as ilpss\n",
    "from imports import readFile\n",
    "from packing.heuristics import setPacking\n",
    "\n",
    "path = r\"./setcoverTestInstances/scpd1.txt\"\n",
    "cover_matrix, sets = readFile.read_set_cover(path)\n",
    "numNodes = 400\n",
    "k = 40\n",
    "\n",
    "\n",
    "cover, chosenNodes = setPacking.getHeurSol(cover_matrix, sets, numNodes)\n",
    "print(cover)\n",
    "print(len(cover))\n",
    "print(chosenNodes)\n",
    "print(len(chosenNodes))"
   ]
  },
  {
   "cell_type": "markdown",
   "metadata": {},
   "source": [
    "# Max Cut"
   ]
  },
  {
   "cell_type": "code",
   "execution_count": 1,
   "metadata": {},
   "outputs": [
    {
     "name": "stdout",
     "output_type": "stream",
     "text": [
      "13\n"
     ]
    }
   ],
   "source": [
    "import sys, os\n",
    "sys.path.append(os.path.abspath('..'))\n",
    "sys.path.append(os.path.abspath('../..'))\n",
    "import numpy as np\n",
    "import networkx as nx\n",
    "import scipy.sparse as sp\n",
    "from imports import ilpsetsystem as ilpss\n",
    "from imports import readFile\n",
    "from covering.heuristics import maxCut, weightedMaxCut\n",
    "\n",
    "G = nx.Graph()\n",
    "G2 = nx.Graph()\n",
    "G.add_edges_from([(1,2),(1,4),(1,3),(3,5),(5,6),(3,4),(6,7),(4,7),(4,6),(2,7)])\n",
    "G2.add_weighted_edges_from([(1,3,2),(3,5,1),(5,6,1),(4,6,3),(6,7,1),(4,7,1),(2,4,3),(1,2,1),(3,4,1),(1,2,1),(1,4,1)])\n",
    "\n",
    "sol = weightedMaxCut.getHeurSol(G2)\n",
    "print(sol)"
   ]
  }
 ],
 "metadata": {
  "kernelspec": {
   "display_name": "Python 3.6",
   "language": "python",
   "name": "py3.6"
  },
  "language_info": {
   "codemirror_mode": {
    "name": "ipython",
    "version": 3
   },
   "file_extension": ".py",
   "mimetype": "text/x-python",
   "name": "python",
   "nbconvert_exporter": "python",
   "pygments_lexer": "ipython3",
   "version": "3.6.12"
  }
 },
 "nbformat": 4,
 "nbformat_minor": 4
}
