{
 "cells": [
  {
   "cell_type": "markdown",
   "metadata": {},
   "source": [
    "# Steiner Trees on Road Maps\n",
    "This example retrieves a graph from [OpenStreetMap](https://www.openstreetmap.org) via the [osmnx](https://osmnx.readthedocs.io) package.\n",
    "A shortest tree connecting a set of randomly chosen terminals is then found by computing a minimum weight [Steiner tree](https://en.wikipedia.org/wiki/Steiner_tree_problem#Steiner_tree_in_graphs_and_variants)."
   ]
  },
  {
   "cell_type": "markdown",
   "metadata": {},
   "source": [
    "## Imports"
   ]
  },
  {
   "cell_type": "code",
   "execution_count": null,
   "metadata": {},
   "outputs": [],
   "source": [
    "import random\n",
    "\n",
    "import networkx as nx\n",
    "\n",
    "import osmnx as ox\n",
    "import pyproj\n",
    "\n",
    "from graphilp.imports import networkx as imp_nx\n",
    "from graphilp.network import steiner_linear_tightened as stp\n",
    "from graphilp.network.heuristics import steiner_metric_closure as smc"
   ]
  },
  {
   "cell_type": "markdown",
   "metadata": {},
   "source": [
    "## Load road map graph"
   ]
  },
  {
   "cell_type": "markdown",
   "metadata": {},
   "source": [
    "Use [Gauss-Krüger 3](https://georepository.com/crs_31467/DHDN-3-degree-Gauss-Kruger-zone-3.html) as coordinate system"
   ]
  },
  {
   "cell_type": "code",
   "execution_count": null,
   "metadata": {},
   "outputs": [],
   "source": [
    "crs = pyproj.crs.CRS('epsg:31467')"
   ]
  },
  {
   "cell_type": "code",
   "execution_count": null,
   "metadata": {},
   "outputs": [],
   "source": [
    "place = 'Oberkassel, Düsseldorf, Deutschland'\n",
    "\n",
    "# road network of suburb (converted to Gauss-Krüger 3)\n",
    "G = ox.project_graph(ox.graph_from_place(place, network_type='walk'), to_crs=crs)"
   ]
  },
  {
   "cell_type": "code",
   "execution_count": null,
   "metadata": {},
   "outputs": [],
   "source": [
    "# draw the road map\n",
    "ox.plot_graph(G, figsize=(14, 10),\n",
    "    bgcolor='#FFF',\n",
    "    node_color='b');"
   ]
  },
  {
   "cell_type": "markdown",
   "metadata": {},
   "source": [
    "# Choose terminals"
   ]
  },
  {
   "cell_type": "code",
   "execution_count": null,
   "metadata": {},
   "outputs": [],
   "source": [
    "node_list = list(G.nodes())"
   ]
  },
  {
   "cell_type": "code",
   "execution_count": null,
   "metadata": {},
   "outputs": [],
   "source": [
    "# choose num_terminals random terminals\n",
    "num_terminals = 5"
   ]
  },
  {
   "cell_type": "code",
   "execution_count": null,
   "metadata": {},
   "outputs": [],
   "source": [
    "terminals = [node_list[random.randint(0, len(node_list))] for n in range(num_terminals)]"
   ]
  },
  {
   "cell_type": "code",
   "execution_count": null,
   "metadata": {},
   "outputs": [],
   "source": [
    "# draw road map and terminals\n",
    "ox.plot_graph(G, figsize=(14, 10),\n",
    "    bgcolor='#FFF',\n",
    "    node_color=['#ED0000' if n in terminals else '#00F' for n in node_list],\n",
    "    node_size=[50 if n in terminals else 15 for n in node_list]);"
   ]
  },
  {
   "cell_type": "markdown",
   "metadata": {},
   "source": [
    "## Set up and run optimisation problem"
   ]
  },
  {
   "cell_type": "code",
   "execution_count": null,
   "metadata": {},
   "outputs": [],
   "source": [
    "# transform input into an undirected graph\n",
    "G_undirected = nx.Graph(G)"
   ]
  },
  {
   "cell_type": "code",
   "execution_count": null,
   "metadata": {},
   "outputs": [],
   "source": [
    "# import to GraphILP API\n",
    "optG = imp_nx.read(G_undirected)"
   ]
  },
  {
   "cell_type": "code",
   "execution_count": null,
   "metadata": {},
   "outputs": [],
   "source": [
    "# find a heuristic solution\n",
    "warmstart, lower_bound = smc.get_heuristic(optG, terminals)"
   ]
  },
  {
   "cell_type": "code",
   "execution_count": null,
   "metadata": {},
   "outputs": [],
   "source": [
    "# set up model and warmstart\n",
    "m = stp.create_model(optG, terminals, weight='length', warmstart=warmstart)"
   ]
  },
  {
   "cell_type": "code",
   "execution_count": null,
   "metadata": {},
   "outputs": [],
   "source": [
    "m.optimize()"
   ]
  },
  {
   "cell_type": "markdown",
   "metadata": {},
   "source": [
    "## Visualise solution"
   ]
  },
  {
   "cell_type": "code",
   "execution_count": null,
   "metadata": {},
   "outputs": [],
   "source": [
    "# extract solution\n",
    "solution = stp.extract_solution(optG, m)"
   ]
  },
  {
   "cell_type": "code",
   "execution_count": null,
   "metadata": {},
   "outputs": [],
   "source": [
    "# draw road map with terminals and solution"
   ]
  },
  {
   "cell_type": "code",
   "execution_count": null,
   "metadata": {},
   "outputs": [],
   "source": [
    "edge_colors = ['#ED0000' if (u,v) in solution or (v, u) in solution else '#AAA' for u, v in G.edges()]\n",
    "edge_widths = [3 if (u,v) in solution else 1 for u, v in G.edges()]"
   ]
  },
  {
   "cell_type": "code",
   "execution_count": null,
   "metadata": {},
   "outputs": [],
   "source": [
    "ox.plot_graph(G, figsize=(14, 10),\n",
    "    bgcolor='#FFF',\n",
    "    node_color=['#ED0000' if n in terminals else '#00F' for n in node_list],\n",
    "    node_size=[75 if n in terminals else 15 for n in node_list],\n",
    "             edge_color=edge_colors, edge_linewidth=edge_widths);"
   ]
  }
 ],
 "metadata": {
  "finalized": {
   "timestamp": 1617274151730,
   "trusted": true
  },
  "kernelspec": {
   "display_name": "Python 3",
   "language": "python",
   "name": "python3"
  },
  "language_info": {
   "codemirror_mode": {
    "name": "ipython",
    "version": 3
   },
   "file_extension": ".py",
   "mimetype": "text/x-python",
   "name": "python",
   "nbconvert_exporter": "python",
   "pygments_lexer": "ipython3",
   "version": "3.6.12"
  },
  "toc": {
   "base_numbering": 1,
   "nav_menu": {},
   "number_sections": true,
   "sideBar": true,
   "skip_h1_title": false,
   "title_cell": "Table of Contents",
   "title_sidebar": "Contents",
   "toc_cell": false,
   "toc_position": {},
   "toc_section_display": true,
   "toc_window_display": false
  }
 },
 "nbformat": 4,
 "nbformat_minor": 4
}
